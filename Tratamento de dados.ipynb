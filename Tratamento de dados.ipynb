{
 "cells": [
  {
   "cell_type": "markdown",
   "metadata": {},
   "source": [
    "# Introdução\n",
    "___\n",
    "Este arquivo tem por objetivo realizar o tratamento de dados do arquivo `cs_bisnode_panel.csv`."
   ]
  },
  {
   "cell_type": "markdown",
   "metadata": {},
   "source": [
    "### Objetivos do tratamento de dados:\n",
    "* Remova as colunas ['COGS', 'finished_prod', 'net_dom_sales', 'net_exp_sales', 'wages', 'D']  pois elas apresentam um percentual considerável de missing data ✅\n",
    "* Remova de seus dados os registros do ano de 2016 ✅\n",
    "* Criar uma coluna para variavel resposta (use o conceito de que uma empresa deixou de operar se ela esteve ativa no\n",
    "ano X, mas não apresentou vendas em X + 2 anos) `# trabalhar nisso`\n",
    "* Filtre para trabalhar apenas com empresas do ano de 2012 ✅\n",
    "* usar np.where para ajustar Sales < 0 você já pode substituir por 0 ✅\n",
    "* * Criar uma nova coluna para a escala logaritima de `Sales`✅\n",
    "* Essa variável (`Sales`) é bastante assimétrica, concorda? Será que vale criar novas\n",
    "colunas que representem o valor em log  dessa coluna?✅\n",
    "* Será que isso também se aplica para as demais? \n",
    "* Crie novas colunas, como idade da empresa (faça isso pela subtração de\n",
    "founded_year  e year ). Ah, cuide bem dos missing values. np.where pode ajudar\n",
    "bastante!✅\n",
    "* Filtre seus dados para ter empresas que possuem receita (revenue) abaixo de 10\n",
    "milhões de euros e acima de 1000 euros✅\n",
    "* Busque sempre embasar qualquer decisão de tratamento das variáveis. Faça isso\n",
    "com o auxílio de estatísticas descritivas e também de gráficos de apoio.✅\n"
   ]
  },
  {
   "cell_type": "markdown",
   "metadata": {},
   "source": [
    "# Importação dos dados e tratamento"
   ]
  },
  {
   "cell_type": "code",
   "execution_count": 71,
   "metadata": {},
   "outputs": [],
   "source": [
    "import pandas as pd\n",
    "import numpy as np\n",
    "import matplotlib.pyplot as plt\n",
    "import seaborn as sns\n",
    "#import pywedge"
   ]
  },
  {
   "cell_type": "code",
   "execution_count": 72,
   "metadata": {},
   "outputs": [],
   "source": [
    "#pip install --upgrade missingno"
   ]
  },
  {
   "cell_type": "code",
   "execution_count": 73,
   "metadata": {},
   "outputs": [],
   "source": [
    "#pip install matplotlib==3.1.3\n"
   ]
  },
  {
   "cell_type": "code",
   "execution_count": 74,
   "metadata": {},
   "outputs": [],
   "source": [
    "import missingno as msno"
   ]
  },
  {
   "cell_type": "code",
   "execution_count": 75,
   "metadata": {},
   "outputs": [
    {
     "data": {
      "text/html": [
       "<div>\n",
       "<style scoped>\n",
       "    .dataframe tbody tr th:only-of-type {\n",
       "        vertical-align: middle;\n",
       "    }\n",
       "\n",
       "    .dataframe tbody tr th {\n",
       "        vertical-align: top;\n",
       "    }\n",
       "\n",
       "    .dataframe thead th {\n",
       "        text-align: right;\n",
       "    }\n",
       "</style>\n",
       "<table border=\"1\" class=\"dataframe\">\n",
       "  <thead>\n",
       "    <tr style=\"text-align: right;\">\n",
       "      <th></th>\n",
       "      <th>comp_id</th>\n",
       "      <th>begin</th>\n",
       "      <th>end</th>\n",
       "      <th>COGS</th>\n",
       "      <th>amort</th>\n",
       "      <th>curr_assets</th>\n",
       "      <th>curr_liab</th>\n",
       "      <th>extra_exp</th>\n",
       "      <th>extra_inc</th>\n",
       "      <th>extra_profit_loss</th>\n",
       "      <th>...</th>\n",
       "      <th>gender</th>\n",
       "      <th>origin</th>\n",
       "      <th>nace_main</th>\n",
       "      <th>ind2</th>\n",
       "      <th>ind</th>\n",
       "      <th>urban_m</th>\n",
       "      <th>region_m</th>\n",
       "      <th>founded_date</th>\n",
       "      <th>exit_date</th>\n",
       "      <th>labor_avg</th>\n",
       "    </tr>\n",
       "  </thead>\n",
       "  <tbody>\n",
       "    <tr>\n",
       "      <th>0</th>\n",
       "      <td>1001034.0</td>\n",
       "      <td>2005-01-01</td>\n",
       "      <td>2005-12-31</td>\n",
       "      <td>NaN</td>\n",
       "      <td>692.592590</td>\n",
       "      <td>7266.666504</td>\n",
       "      <td>7574.074219</td>\n",
       "      <td>0.0</td>\n",
       "      <td>0.0</td>\n",
       "      <td>0.0</td>\n",
       "      <td>...</td>\n",
       "      <td>mix</td>\n",
       "      <td>Domestic</td>\n",
       "      <td>5630.0</td>\n",
       "      <td>56.0</td>\n",
       "      <td>3.0</td>\n",
       "      <td>1</td>\n",
       "      <td>Central</td>\n",
       "      <td>1990-11-19</td>\n",
       "      <td>NaN</td>\n",
       "      <td>NaN</td>\n",
       "    </tr>\n",
       "    <tr>\n",
       "      <th>1</th>\n",
       "      <td>1001034.0</td>\n",
       "      <td>2006-01-01</td>\n",
       "      <td>2006-12-31</td>\n",
       "      <td>NaN</td>\n",
       "      <td>603.703674</td>\n",
       "      <td>13122.222656</td>\n",
       "      <td>12211.111328</td>\n",
       "      <td>0.0</td>\n",
       "      <td>0.0</td>\n",
       "      <td>0.0</td>\n",
       "      <td>...</td>\n",
       "      <td>mix</td>\n",
       "      <td>Domestic</td>\n",
       "      <td>5630.0</td>\n",
       "      <td>56.0</td>\n",
       "      <td>3.0</td>\n",
       "      <td>1</td>\n",
       "      <td>Central</td>\n",
       "      <td>1990-11-19</td>\n",
       "      <td>NaN</td>\n",
       "      <td>NaN</td>\n",
       "    </tr>\n",
       "    <tr>\n",
       "      <th>2</th>\n",
       "      <td>1001034.0</td>\n",
       "      <td>2007-01-01</td>\n",
       "      <td>2007-12-31</td>\n",
       "      <td>NaN</td>\n",
       "      <td>425.925934</td>\n",
       "      <td>8196.295898</td>\n",
       "      <td>7800.000000</td>\n",
       "      <td>0.0</td>\n",
       "      <td>0.0</td>\n",
       "      <td>0.0</td>\n",
       "      <td>...</td>\n",
       "      <td>mix</td>\n",
       "      <td>Domestic</td>\n",
       "      <td>5630.0</td>\n",
       "      <td>56.0</td>\n",
       "      <td>3.0</td>\n",
       "      <td>1</td>\n",
       "      <td>Central</td>\n",
       "      <td>1990-11-19</td>\n",
       "      <td>NaN</td>\n",
       "      <td>NaN</td>\n",
       "    </tr>\n",
       "    <tr>\n",
       "      <th>3</th>\n",
       "      <td>1001034.0</td>\n",
       "      <td>2008-01-01</td>\n",
       "      <td>2008-12-31</td>\n",
       "      <td>NaN</td>\n",
       "      <td>300.000000</td>\n",
       "      <td>8485.185547</td>\n",
       "      <td>7781.481445</td>\n",
       "      <td>0.0</td>\n",
       "      <td>0.0</td>\n",
       "      <td>0.0</td>\n",
       "      <td>...</td>\n",
       "      <td>mix</td>\n",
       "      <td>Domestic</td>\n",
       "      <td>5630.0</td>\n",
       "      <td>56.0</td>\n",
       "      <td>3.0</td>\n",
       "      <td>1</td>\n",
       "      <td>Central</td>\n",
       "      <td>1990-11-19</td>\n",
       "      <td>NaN</td>\n",
       "      <td>NaN</td>\n",
       "    </tr>\n",
       "    <tr>\n",
       "      <th>4</th>\n",
       "      <td>1001034.0</td>\n",
       "      <td>2009-01-01</td>\n",
       "      <td>2009-12-31</td>\n",
       "      <td>NaN</td>\n",
       "      <td>207.407410</td>\n",
       "      <td>5137.037109</td>\n",
       "      <td>15300.000000</td>\n",
       "      <td>0.0</td>\n",
       "      <td>0.0</td>\n",
       "      <td>0.0</td>\n",
       "      <td>...</td>\n",
       "      <td>mix</td>\n",
       "      <td>Domestic</td>\n",
       "      <td>5630.0</td>\n",
       "      <td>56.0</td>\n",
       "      <td>3.0</td>\n",
       "      <td>1</td>\n",
       "      <td>Central</td>\n",
       "      <td>1990-11-19</td>\n",
       "      <td>NaN</td>\n",
       "      <td>0.083333</td>\n",
       "    </tr>\n",
       "  </tbody>\n",
       "</table>\n",
       "<p>5 rows × 48 columns</p>\n",
       "</div>"
      ],
      "text/plain": [
       "     comp_id       begin         end  COGS       amort   curr_assets  \\\n",
       "0  1001034.0  2005-01-01  2005-12-31   NaN  692.592590   7266.666504   \n",
       "1  1001034.0  2006-01-01  2006-12-31   NaN  603.703674  13122.222656   \n",
       "2  1001034.0  2007-01-01  2007-12-31   NaN  425.925934   8196.295898   \n",
       "3  1001034.0  2008-01-01  2008-12-31   NaN  300.000000   8485.185547   \n",
       "4  1001034.0  2009-01-01  2009-12-31   NaN  207.407410   5137.037109   \n",
       "\n",
       "      curr_liab  extra_exp  extra_inc  extra_profit_loss  ...  gender  \\\n",
       "0   7574.074219        0.0        0.0                0.0  ...     mix   \n",
       "1  12211.111328        0.0        0.0                0.0  ...     mix   \n",
       "2   7800.000000        0.0        0.0                0.0  ...     mix   \n",
       "3   7781.481445        0.0        0.0                0.0  ...     mix   \n",
       "4  15300.000000        0.0        0.0                0.0  ...     mix   \n",
       "\n",
       "     origin  nace_main  ind2  ind  urban_m  region_m  founded_date  exit_date  \\\n",
       "0  Domestic     5630.0  56.0  3.0        1   Central    1990-11-19        NaN   \n",
       "1  Domestic     5630.0  56.0  3.0        1   Central    1990-11-19        NaN   \n",
       "2  Domestic     5630.0  56.0  3.0        1   Central    1990-11-19        NaN   \n",
       "3  Domestic     5630.0  56.0  3.0        1   Central    1990-11-19        NaN   \n",
       "4  Domestic     5630.0  56.0  3.0        1   Central    1990-11-19        NaN   \n",
       "\n",
       "   labor_avg  \n",
       "0        NaN  \n",
       "1        NaN  \n",
       "2        NaN  \n",
       "3        NaN  \n",
       "4   0.083333  \n",
       "\n",
       "[5 rows x 48 columns]"
      ]
     },
     "execution_count": 75,
     "metadata": {},
     "output_type": "execute_result"
    }
   ],
   "source": [
    "df = pd.read_csv(\"cs_bisnode_panel.csv\")\n",
    "df.head()"
   ]
  },
  {
   "cell_type": "code",
   "execution_count": 76,
   "metadata": {},
   "outputs": [
    {
     "data": {
      "text/plain": [
       "<Axes: >"
      ]
     },
     "execution_count": 76,
     "metadata": {},
     "output_type": "execute_result"
    },
    {
     "data": {
      "image/png": "[encoded data removed]",
      "text/plain": [
       "<Figure size 2500x1000 with 2 Axes>"
      ]
     },
     "metadata": {},
     "output_type": "display_data"
    }
   ],
   "source": [
    "msno.matrix(df)"
   ]
  },
  {
   "cell_type": "markdown",
   "metadata": {},
   "source": [
    "Transformando as colunas de data para o foramto `dateTime`"
   ]
  },
  {
   "cell_type": "code",
   "execution_count": 77,
   "metadata": {},
   "outputs": [],
   "source": [
    "df[\"begin\"] = pd.to_datetime(df['begin'])\n",
    "df[\"end\"] = pd.to_datetime(df['end'])\n",
    "df[\"year\"] = pd.to_datetime(df['year'])"
   ]
  },
  {
   "cell_type": "markdown",
   "metadata": {},
   "source": [
    "Checando valores faltantes na base de dados:"
   ]
  },
  {
   "cell_type": "code",
   "execution_count": 78,
   "metadata": {},
   "outputs": [
    {
     "data": {
      "image/png": "[encoded data removed]",
      "text/plain": [
       "<Figure size 1200x800 with 1 Axes>"
      ]
     },
     "metadata": {},
     "output_type": "display_data"
    }
   ],
   "source": [
    "# Calcular o número de valores faltantes por coluna\n",
    "missing_values = df.isnull().sum()\n",
    "\n",
    "# Filtrar colunas com valores faltantes\n",
    "missing_values = missing_values[missing_values > 0]\n",
    "\n",
    "# Ordenar os valores em ordem decrescente\n",
    "missing_values.sort_values(inplace=True)\n",
    "\n",
    "# Criar um gráfico de barras horizontal\n",
    "plt.figure(figsize=(12, 8))\n",
    "missing_values.plot.barh()\n",
    "plt.title('Número de Valores Faltantes por Coluna')\n",
    "plt.xlabel('Número de Valores Faltantes')\n",
    "plt.ylabel('Colunas')\n",
    "plt.grid(True)\n",
    "plt.show()"
   ]
  },
  {
   "cell_type": "markdown",
   "metadata": {},
   "source": [
    "Checando os valores faltantes absolutos de acordo com o ano"
   ]
  },
  {
   "cell_type": "code",
   "execution_count": 79,
   "metadata": {},
   "outputs": [
    {
     "data": {
      "image/png": "[encoded data removed]",
      "text/plain": [
       "<Figure size 1200x600 with 1 Axes>"
      ]
     },
     "metadata": {},
     "output_type": "display_data"
    }
   ],
   "source": [
    "# Converter a coluna 'year' para tipo numérico (caso não esteja)\n",
    "df['year'] = pd.to_numeric(df['year'], errors='coerce')\n",
    "\n",
    "# Remover linhas onde 'year' é nulo\n",
    "df = df[df['year'].notnull()]\n",
    "\n",
    "# Calcular o número de valores faltantes por linha\n",
    "df['missing_count'] = df.isnull().sum(axis=1)\n",
    "\n",
    "# Agrupar por 'year' e somar o número de valores faltantes\n",
    "missing_per_year = df.groupby('year')['missing_count'].sum().reset_index()\n",
    "\n",
    "# Converter 'year' para inteiro\n",
    "missing_per_year['year'] = missing_per_year['year'].astype(int)\n",
    "\n",
    "# Ordenar os dados pelo ano\n",
    "missing_per_year = missing_per_year.sort_values('year')\n",
    "\n",
    "# Criar o gráfico de barras\n",
    "plt.figure(figsize=(12, 6))\n",
    "plt.bar(missing_per_year['year'], missing_per_year['missing_count'], color='skyblue')\n",
    "plt.title('Total de Valores Faltantes por linha agrupado por Ano')\n",
    "plt.xlabel('Ano')\n",
    "plt.ylabel('Total de Valores Faltantes')\n",
    "plt.xticks(missing_per_year['year'], rotation=45)\n",
    "plt.tight_layout()\n",
    "plt.grid(True)\n",
    "plt.show()"
   ]
  },
  {
   "cell_type": "markdown",
   "metadata": {},
   "source": [
    "Checando a procentagem de valores faltantes de acordo com o ano"
   ]
  },
  {
   "cell_type": "code",
   "execution_count": 80,
   "metadata": {},
   "outputs": [
    {
     "data": {
      "image/png": "[encoded data removed]",
      "text/plain": [
       "<Figure size 1200x600 with 1 Axes>"
      ]
     },
     "metadata": {},
     "output_type": "display_data"
    }
   ],
   "source": [
    "# Converter a coluna 'year' para tipo numérico (caso não esteja)\n",
    "df['year'] = pd.to_numeric(df['year'], errors='coerce')\n",
    "\n",
    "# Remover linhas onde 'year' é nulo\n",
    "df = df[df['year'].notnull()]\n",
    "\n",
    "# Calcular o número total de colunas (para usar no cálculo da porcentagem)\n",
    "total_columns = df.shape[1]\n",
    "\n",
    "# Calcular o número de valores faltantes por linha\n",
    "df['missing_count'] = df.isnull().sum(axis=1)\n",
    "\n",
    "# Agrupar por 'year' e calcular a média dos valores faltantes em relação ao total de colunas\n",
    "missing_per_year = df.groupby('year')['missing_count'].sum().reset_index()\n",
    "\n",
    "# Calcular o número de entradas por ano\n",
    "entries_per_year = df.groupby('year').size().reset_index(name='total_entries')\n",
    "\n",
    "# Juntar o número de entradas por ano ao DataFrame de valores faltantes\n",
    "missing_per_year = missing_per_year.merge(entries_per_year, on='year')\n",
    "\n",
    "# Calcular a porcentagem de valores faltantes por ano\n",
    "missing_per_year['missing_percentage'] = (missing_per_year['missing_count'] / (missing_per_year['total_entries'] * total_columns)) * 100\n",
    "\n",
    "# Converter 'year' para inteiro\n",
    "missing_per_year['year'] = missing_per_year['year'].astype(int)\n",
    "\n",
    "# Ordenar os dados pelo ano\n",
    "missing_per_year = missing_per_year.sort_values('year')\n",
    "\n",
    "# Criar o gráfico de barras\n",
    "plt.figure(figsize=(12, 6))\n",
    "plt.bar(missing_per_year['year'], missing_per_year['missing_percentage'], color='skyblue')\n",
    "plt.title('Porcentagem de Valores Faltantes por linha, agrupado por Ano')\n",
    "plt.xlabel('Ano')\n",
    "plt.ylabel('Porcentagem de Valores Faltantes (%)')\n",
    "plt.xticks(missing_per_year['year'], rotation=45)\n",
    "plt.tight_layout()\n",
    "plt.grid(True)\n",
    "plt.show()"
   ]
  },
  {
   "cell_type": "markdown",
   "metadata": {},
   "source": [
    "Retirando a coluna utilizada para plotar os graficos para que ela nao atrapalhe no treinamento dos modelos"
   ]
  },
  {
   "cell_type": "code",
   "execution_count": 81,
   "metadata": {},
   "outputs": [],
   "source": [
    "df = df.drop(columns=\"missing_count\")"
   ]
  },
  {
   "cell_type": "markdown",
   "metadata": {},
   "source": [
    "## Removendo dados do ano de 2016\n",
    "___"
   ]
  },
  {
   "cell_type": "code",
   "execution_count": 82,
   "metadata": {},
   "outputs": [
    {
     "data": {
      "text/html": [
       "<div>\n",
       "<style scoped>\n",
       "    .dataframe tbody tr th:only-of-type {\n",
       "        vertical-align: middle;\n",
       "    }\n",
       "\n",
       "    .dataframe tbody tr th {\n",
       "        vertical-align: top;\n",
       "    }\n",
       "\n",
       "    .dataframe thead th {\n",
       "        text-align: right;\n",
       "    }\n",
       "</style>\n",
       "<table border=\"1\" class=\"dataframe\">\n",
       "  <thead>\n",
       "    <tr style=\"text-align: right;\">\n",
       "      <th></th>\n",
       "      <th>comp_id</th>\n",
       "      <th>begin</th>\n",
       "      <th>end</th>\n",
       "      <th>COGS</th>\n",
       "      <th>amort</th>\n",
       "      <th>curr_assets</th>\n",
       "      <th>curr_liab</th>\n",
       "      <th>extra_exp</th>\n",
       "      <th>extra_inc</th>\n",
       "      <th>extra_profit_loss</th>\n",
       "      <th>...</th>\n",
       "      <th>gender</th>\n",
       "      <th>origin</th>\n",
       "      <th>nace_main</th>\n",
       "      <th>ind2</th>\n",
       "      <th>ind</th>\n",
       "      <th>urban_m</th>\n",
       "      <th>region_m</th>\n",
       "      <th>founded_date</th>\n",
       "      <th>exit_date</th>\n",
       "      <th>labor_avg</th>\n",
       "    </tr>\n",
       "  </thead>\n",
       "  <tbody>\n",
       "    <tr>\n",
       "      <th>0</th>\n",
       "      <td>1001034.0</td>\n",
       "      <td>2005-01-01</td>\n",
       "      <td>2005-12-31</td>\n",
       "      <td>NaN</td>\n",
       "      <td>692.592590</td>\n",
       "      <td>7266.666504</td>\n",
       "      <td>7574.074219</td>\n",
       "      <td>0.0</td>\n",
       "      <td>0.0</td>\n",
       "      <td>0.0</td>\n",
       "      <td>...</td>\n",
       "      <td>mix</td>\n",
       "      <td>Domestic</td>\n",
       "      <td>5630.0</td>\n",
       "      <td>56.0</td>\n",
       "      <td>3.0</td>\n",
       "      <td>1</td>\n",
       "      <td>Central</td>\n",
       "      <td>1990-11-19</td>\n",
       "      <td>NaN</td>\n",
       "      <td>NaN</td>\n",
       "    </tr>\n",
       "    <tr>\n",
       "      <th>1</th>\n",
       "      <td>1001034.0</td>\n",
       "      <td>2006-01-01</td>\n",
       "      <td>2006-12-31</td>\n",
       "      <td>NaN</td>\n",
       "      <td>603.703674</td>\n",
       "      <td>13122.222656</td>\n",
       "      <td>12211.111328</td>\n",
       "      <td>0.0</td>\n",
       "      <td>0.0</td>\n",
       "      <td>0.0</td>\n",
       "      <td>...</td>\n",
       "      <td>mix</td>\n",
       "      <td>Domestic</td>\n",
       "      <td>5630.0</td>\n",
       "      <td>56.0</td>\n",
       "      <td>3.0</td>\n",
       "      <td>1</td>\n",
       "      <td>Central</td>\n",
       "      <td>1990-11-19</td>\n",
       "      <td>NaN</td>\n",
       "      <td>NaN</td>\n",
       "    </tr>\n",
       "    <tr>\n",
       "      <th>2</th>\n",
       "      <td>1001034.0</td>\n",
       "      <td>2007-01-01</td>\n",
       "      <td>2007-12-31</td>\n",
       "      <td>NaN</td>\n",
       "      <td>425.925934</td>\n",
       "      <td>8196.295898</td>\n",
       "      <td>7800.000000</td>\n",
       "      <td>0.0</td>\n",
       "      <td>0.0</td>\n",
       "      <td>0.0</td>\n",
       "      <td>...</td>\n",
       "      <td>mix</td>\n",
       "      <td>Domestic</td>\n",
       "      <td>5630.0</td>\n",
       "      <td>56.0</td>\n",
       "      <td>3.0</td>\n",
       "      <td>1</td>\n",
       "      <td>Central</td>\n",
       "      <td>1990-11-19</td>\n",
       "      <td>NaN</td>\n",
       "      <td>NaN</td>\n",
       "    </tr>\n",
       "    <tr>\n",
       "      <th>3</th>\n",
       "      <td>1001034.0</td>\n",
       "      <td>2008-01-01</td>\n",
       "      <td>2008-12-31</td>\n",
       "      <td>NaN</td>\n",
       "      <td>300.000000</td>\n",
       "      <td>8485.185547</td>\n",
       "      <td>7781.481445</td>\n",
       "      <td>0.0</td>\n",
       "      <td>0.0</td>\n",
       "      <td>0.0</td>\n",
       "      <td>...</td>\n",
       "      <td>mix</td>\n",
       "      <td>Domestic</td>\n",
       "      <td>5630.0</td>\n",
       "      <td>56.0</td>\n",
       "      <td>3.0</td>\n",
       "      <td>1</td>\n",
       "      <td>Central</td>\n",
       "      <td>1990-11-19</td>\n",
       "      <td>NaN</td>\n",
       "      <td>NaN</td>\n",
       "    </tr>\n",
       "    <tr>\n",
       "      <th>4</th>\n",
       "      <td>1001034.0</td>\n",
       "      <td>2009-01-01</td>\n",
       "      <td>2009-12-31</td>\n",
       "      <td>NaN</td>\n",
       "      <td>207.407410</td>\n",
       "      <td>5137.037109</td>\n",
       "      <td>15300.000000</td>\n",
       "      <td>0.0</td>\n",
       "      <td>0.0</td>\n",
       "      <td>0.0</td>\n",
       "      <td>...</td>\n",
       "      <td>mix</td>\n",
       "      <td>Domestic</td>\n",
       "      <td>5630.0</td>\n",
       "      <td>56.0</td>\n",
       "      <td>3.0</td>\n",
       "      <td>1</td>\n",
       "      <td>Central</td>\n",
       "      <td>1990-11-19</td>\n",
       "      <td>NaN</td>\n",
       "      <td>0.083333</td>\n",
       "    </tr>\n",
       "  </tbody>\n",
       "</table>\n",
       "<p>5 rows × 48 columns</p>\n",
       "</div>"
      ],
      "text/plain": [
       "     comp_id      begin        end  COGS       amort   curr_assets  \\\n",
       "0  1001034.0 2005-01-01 2005-12-31   NaN  692.592590   7266.666504   \n",
       "1  1001034.0 2006-01-01 2006-12-31   NaN  603.703674  13122.222656   \n",
       "2  1001034.0 2007-01-01 2007-12-31   NaN  425.925934   8196.295898   \n",
       "3  1001034.0 2008-01-01 2008-12-31   NaN  300.000000   8485.185547   \n",
       "4  1001034.0 2009-01-01 2009-12-31   NaN  207.407410   5137.037109   \n",
       "\n",
       "      curr_liab  extra_exp  extra_inc  extra_profit_loss  ...  gender  \\\n",
       "0   7574.074219        0.0        0.0                0.0  ...     mix   \n",
       "1  12211.111328        0.0        0.0                0.0  ...     mix   \n",
       "2   7800.000000        0.0        0.0                0.0  ...     mix   \n",
       "3   7781.481445        0.0        0.0                0.0  ...     mix   \n",
       "4  15300.000000        0.0        0.0                0.0  ...     mix   \n",
       "\n",
       "     origin  nace_main  ind2  ind  urban_m  region_m  founded_date  exit_date  \\\n",
       "0  Domestic     5630.0  56.0  3.0        1   Central    1990-11-19        NaN   \n",
       "1  Domestic     5630.0  56.0  3.0        1   Central    1990-11-19        NaN   \n",
       "2  Domestic     5630.0  56.0  3.0        1   Central    1990-11-19        NaN   \n",
       "3  Domestic     5630.0  56.0  3.0        1   Central    1990-11-19        NaN   \n",
       "4  Domestic     5630.0  56.0  3.0        1   Central    1990-11-19        NaN   \n",
       "\n",
       "   labor_avg  \n",
       "0        NaN  \n",
       "1        NaN  \n",
       "2        NaN  \n",
       "3        NaN  \n",
       "4   0.083333  \n",
       "\n",
       "[5 rows x 48 columns]"
      ]
     },
     "execution_count": 82,
     "metadata": {},
     "output_type": "execute_result"
    }
   ],
   "source": [
    "# retinrando os dados em que o ano seja 2016 ou maior\n",
    "df = df[df[\"year\"] < 2016]\n",
    "df.head()"
   ]
  },
  {
   "cell_type": "markdown",
   "metadata": {},
   "source": [
    "## Criando a coluna indicadora de operação da empresa \n",
    "(se a empresa está operante em x+2 anos ou Não)"
   ]
  },
  {
   "cell_type": "code",
   "execution_count": 83,
   "metadata": {},
   "outputs": [],
   "source": [
    "# Ordenando o DataFrame original por 'comp_id' e 'begin' para garantir a ordem cronológica\n",
    "df_sorted = df.sort_values(by=['comp_id', 'begin'])\n",
    "\n",
    "# Criando a variável resposta 'operates_within_2_years' no DataFrame ordenado\n",
    "df_sorted['operates_within_2_years'] = df_sorted.groupby('comp_id')['sales'].shift(-2).gt(0).astype(int)\n",
    "\n",
    "# Adicionando a nova coluna 'operates_within_2_years' de df_sorted ao df original\n",
    "df['operates_within_2_years'] = df_sorted['operates_within_2_years']"
   ]
  },
  {
   "cell_type": "code",
   "execution_count": 84,
   "metadata": {},
   "outputs": [
    {
     "data": {
      "text/html": [
       "<div>\n",
       "<style scoped>\n",
       "    .dataframe tbody tr th:only-of-type {\n",
       "        vertical-align: middle;\n",
       "    }\n",
       "\n",
       "    .dataframe tbody tr th {\n",
       "        vertical-align: top;\n",
       "    }\n",
       "\n",
       "    .dataframe thead th {\n",
       "        text-align: right;\n",
       "    }\n",
       "</style>\n",
       "<table border=\"1\" class=\"dataframe\">\n",
       "  <thead>\n",
       "    <tr style=\"text-align: right;\">\n",
       "      <th></th>\n",
       "      <th>comp_id</th>\n",
       "      <th>sales</th>\n",
       "      <th>operates_within_2_years</th>\n",
       "    </tr>\n",
       "  </thead>\n",
       "  <tbody>\n",
       "    <tr>\n",
       "      <th>0</th>\n",
       "      <td>1001034.0</td>\n",
       "      <td>6.275185e+04</td>\n",
       "      <td>1</td>\n",
       "    </tr>\n",
       "    <tr>\n",
       "      <th>1</th>\n",
       "      <td>1001034.0</td>\n",
       "      <td>6.462593e+04</td>\n",
       "      <td>1</td>\n",
       "    </tr>\n",
       "    <tr>\n",
       "      <th>2</th>\n",
       "      <td>1001034.0</td>\n",
       "      <td>6.510000e+04</td>\n",
       "      <td>1</td>\n",
       "    </tr>\n",
       "    <tr>\n",
       "      <th>3</th>\n",
       "      <td>1001034.0</td>\n",
       "      <td>7.808519e+04</td>\n",
       "      <td>1</td>\n",
       "    </tr>\n",
       "    <tr>\n",
       "      <th>4</th>\n",
       "      <td>1001034.0</td>\n",
       "      <td>4.538889e+04</td>\n",
       "      <td>0</td>\n",
       "    </tr>\n",
       "    <tr>\n",
       "      <th>5</th>\n",
       "      <td>1001034.0</td>\n",
       "      <td>9.929630e+03</td>\n",
       "      <td>0</td>\n",
       "    </tr>\n",
       "    <tr>\n",
       "      <th>6</th>\n",
       "      <td>1001034.0</td>\n",
       "      <td>0.000000e+00</td>\n",
       "      <td>0</td>\n",
       "    </tr>\n",
       "    <tr>\n",
       "      <th>7</th>\n",
       "      <td>1001034.0</td>\n",
       "      <td>0.000000e+00</td>\n",
       "      <td>0</td>\n",
       "    </tr>\n",
       "    <tr>\n",
       "      <th>8</th>\n",
       "      <td>1001034.0</td>\n",
       "      <td>0.000000e+00</td>\n",
       "      <td>0</td>\n",
       "    </tr>\n",
       "    <tr>\n",
       "      <th>9</th>\n",
       "      <td>1001034.0</td>\n",
       "      <td>0.000000e+00</td>\n",
       "      <td>0</td>\n",
       "    </tr>\n",
       "    <tr>\n",
       "      <th>10</th>\n",
       "      <td>1001034.0</td>\n",
       "      <td>0.000000e+00</td>\n",
       "      <td>0</td>\n",
       "    </tr>\n",
       "    <tr>\n",
       "      <th>11</th>\n",
       "      <td>1001541.0</td>\n",
       "      <td>9.259259e+02</td>\n",
       "      <td>0</td>\n",
       "    </tr>\n",
       "    <tr>\n",
       "      <th>12</th>\n",
       "      <td>1001541.0</td>\n",
       "      <td>0.000000e+00</td>\n",
       "      <td>1</td>\n",
       "    </tr>\n",
       "    <tr>\n",
       "      <th>13</th>\n",
       "      <td>1001541.0</td>\n",
       "      <td>0.000000e+00</td>\n",
       "      <td>1</td>\n",
       "    </tr>\n",
       "    <tr>\n",
       "      <th>14</th>\n",
       "      <td>1001541.0</td>\n",
       "      <td>1.203704e+03</td>\n",
       "      <td>1</td>\n",
       "    </tr>\n",
       "    <tr>\n",
       "      <th>15</th>\n",
       "      <td>1001541.0</td>\n",
       "      <td>5.555556e+03</td>\n",
       "      <td>1</td>\n",
       "    </tr>\n",
       "    <tr>\n",
       "      <th>16</th>\n",
       "      <td>1001541.0</td>\n",
       "      <td>4.888889e+03</td>\n",
       "      <td>0</td>\n",
       "    </tr>\n",
       "    <tr>\n",
       "      <th>17</th>\n",
       "      <td>1001541.0</td>\n",
       "      <td>4.888889e+03</td>\n",
       "      <td>0</td>\n",
       "    </tr>\n",
       "    <tr>\n",
       "      <th>18</th>\n",
       "      <td>1002029.0</td>\n",
       "      <td>3.475889e+05</td>\n",
       "      <td>1</td>\n",
       "    </tr>\n",
       "    <tr>\n",
       "      <th>19</th>\n",
       "      <td>1002029.0</td>\n",
       "      <td>8.272148e+05</td>\n",
       "      <td>1</td>\n",
       "    </tr>\n",
       "    <tr>\n",
       "      <th>20</th>\n",
       "      <td>1002029.0</td>\n",
       "      <td>6.838556e+05</td>\n",
       "      <td>1</td>\n",
       "    </tr>\n",
       "    <tr>\n",
       "      <th>21</th>\n",
       "      <td>1002029.0</td>\n",
       "      <td>8.437741e+05</td>\n",
       "      <td>1</td>\n",
       "    </tr>\n",
       "    <tr>\n",
       "      <th>22</th>\n",
       "      <td>1002029.0</td>\n",
       "      <td>5.732222e+05</td>\n",
       "      <td>1</td>\n",
       "    </tr>\n",
       "    <tr>\n",
       "      <th>23</th>\n",
       "      <td>1002029.0</td>\n",
       "      <td>1.136515e+06</td>\n",
       "      <td>1</td>\n",
       "    </tr>\n",
       "    <tr>\n",
       "      <th>24</th>\n",
       "      <td>1002029.0</td>\n",
       "      <td>3.580630e+05</td>\n",
       "      <td>1</td>\n",
       "    </tr>\n",
       "    <tr>\n",
       "      <th>25</th>\n",
       "      <td>1002029.0</td>\n",
       "      <td>2.167519e+05</td>\n",
       "      <td>0</td>\n",
       "    </tr>\n",
       "    <tr>\n",
       "      <th>26</th>\n",
       "      <td>1002029.0</td>\n",
       "      <td>3.454037e+05</td>\n",
       "      <td>0</td>\n",
       "    </tr>\n",
       "    <tr>\n",
       "      <th>28</th>\n",
       "      <td>1003200.0</td>\n",
       "      <td>1.111852e+04</td>\n",
       "      <td>1</td>\n",
       "    </tr>\n",
       "    <tr>\n",
       "      <th>29</th>\n",
       "      <td>1003200.0</td>\n",
       "      <td>1.299630e+04</td>\n",
       "      <td>1</td>\n",
       "    </tr>\n",
       "    <tr>\n",
       "      <th>30</th>\n",
       "      <td>1003200.0</td>\n",
       "      <td>2.058519e+04</td>\n",
       "      <td>1</td>\n",
       "    </tr>\n",
       "  </tbody>\n",
       "</table>\n",
       "</div>"
      ],
      "text/plain": [
       "      comp_id         sales  operates_within_2_years\n",
       "0   1001034.0  6.275185e+04                        1\n",
       "1   1001034.0  6.462593e+04                        1\n",
       "2   1001034.0  6.510000e+04                        1\n",
       "3   1001034.0  7.808519e+04                        1\n",
       "4   1001034.0  4.538889e+04                        0\n",
       "5   1001034.0  9.929630e+03                        0\n",
       "6   1001034.0  0.000000e+00                        0\n",
       "7   1001034.0  0.000000e+00                        0\n",
       "8   1001034.0  0.000000e+00                        0\n",
       "9   1001034.0  0.000000e+00                        0\n",
       "10  1001034.0  0.000000e+00                        0\n",
       "11  1001541.0  9.259259e+02                        0\n",
       "12  1001541.0  0.000000e+00                        1\n",
       "13  1001541.0  0.000000e+00                        1\n",
       "14  1001541.0  1.203704e+03                        1\n",
       "15  1001541.0  5.555556e+03                        1\n",
       "16  1001541.0  4.888889e+03                        0\n",
       "17  1001541.0  4.888889e+03                        0\n",
       "18  1002029.0  3.475889e+05                        1\n",
       "19  1002029.0  8.272148e+05                        1\n",
       "20  1002029.0  6.838556e+05                        1\n",
       "21  1002029.0  8.437741e+05                        1\n",
       "22  1002029.0  5.732222e+05                        1\n",
       "23  1002029.0  1.136515e+06                        1\n",
       "24  1002029.0  3.580630e+05                        1\n",
       "25  1002029.0  2.167519e+05                        0\n",
       "26  1002029.0  3.454037e+05                        0\n",
       "28  1003200.0  1.111852e+04                        1\n",
       "29  1003200.0  1.299630e+04                        1\n",
       "30  1003200.0  2.058519e+04                        1"
      ]
     },
     "execution_count": 84,
     "metadata": {},
     "output_type": "execute_result"
    }
   ],
   "source": [
    "# Verificando as primeiras linhas do df para garantir que a coluna foi adicionada corretamente\n",
    "df[[\"comp_id\", \"sales\", \"operates_within_2_years\"]].head(30)"
   ]
  },
  {
   "cell_type": "markdown",
   "metadata": {},
   "source": [
    "* `groupby('comp_id')`: Agrupa os dados por empresa usando comp_id para que o cálculo de sales dois anos à frente seja feito separadamente para cada empresa.\n",
    "* `.shift(-2)`: Pega o valor de sales duas linhas à frente dentro de cada grupo, o que equivale a dois anos à frente, devido à ordenação das datas.\n",
    "* `apply(lambda x: 1 if x > 0 else 0)`: Define 1 se o valor for positivo e 0 caso contrário."
   ]
  },
  {
   "cell_type": "markdown",
   "metadata": {},
   "source": [
    "Plotando um gráfico comparando as empresas que faliram e as que continuaram operando:"
   ]
  },
  {
   "cell_type": "code",
   "execution_count": 85,
   "metadata": {},
   "outputs": [
    {
     "data": {
      "application/vnd.plotly.v1+json": {
       "config": {
        "plotlyServerURL": "https://plot.ly"
       },
       "data": [
        {
         "alignmentgroup": "True",
         "hovertemplate": "Status=%{x}<br>Quantidade=%{text}<extra></extra>",
         "legendgroup": "Falidas",
         "marker": {
          "color": "red",
          "pattern": {
           "shape": ""
          }
         },
         "name": "Falidas",
         "offsetgroup": "Falidas",
         "orientation": "v",
         "showlegend": true,
         "text": [
          118744
         ],
         "textposition": "outside",
         "texttemplate": "%{text}",
         "type": "bar",
         "x": [
          "Falidas"
         ],
         "xaxis": "x",
         "y": [
          118744
         ],
         "yaxis": "y"
        },
        {
         "alignmentgroup": "True",
         "hovertemplate": "Status=%{x}<br>Quantidade=%{text}<extra></extra>",
         "legendgroup": "Ativas",
         "marker": {
          "color": "green",
          "pattern": {
           "shape": ""
          }
         },
         "name": "Ativas",
         "offsetgroup": "Ativas",
         "orientation": "v",
         "showlegend": true,
         "text": [
          159342
         ],
         "textposition": "outside",
         "texttemplate": "%{text}",
         "type": "bar",
         "x": [
          "Ativas"
         ],
         "xaxis": "x",
         "y": [
          159342
         ],
         "yaxis": "y"
        }
       ],
       "layout": {
        "barmode": "relative",
        "height": 500,
        "legend": {
         "title": {
          "text": "Status"
         },
         "tracegroupgap": 0
        },
        "template": {
         "data": {
          "bar": [
           {
            "error_x": {
             "color": "#2a3f5f"
            },
            "error_y": {
             "color": "#2a3f5f"
            },
            "marker": {
             "line": {
              "color": "#E5ECF6",
              "width": 0.5
             },
             "pattern": {
              "fillmode": "overlay",
              "size": 10,
              "solidity": 0.2
             }
            },
            "type": "bar"
           }
          ],
          "barpolar": [
           {
            "marker": {
             "line": {
              "color": "#E5ECF6",
              "width": 0.5
             },
             "pattern": {
              "fillmode": "overlay",
              "size": 10,
              "solidity": 0.2
             }
            },
            "type": "barpolar"
           }
          ],
          "carpet": [
           {
            "aaxis": {
             "endlinecolor": "#2a3f5f",
             "gridcolor": "white",
             "linecolor": "white",
             "minorgridcolor": "white",
             "startlinecolor": "#2a3f5f"
            },
            "baxis": {
             "endlinecolor": "#2a3f5f",
             "gridcolor": "white",
             "linecolor": "white",
             "minorgridcolor": "white",
             "startlinecolor": "#2a3f5f"
            },
            "type": "carpet"
           }
          ],
          "choropleth": [
           {
            "colorbar": {
             "outlinewidth": 0,
             "ticks": ""
            },
            "type": "choropleth"
           }
          ],
          "contour": [
           {
            "colorbar": {
             "outlinewidth": 0,
             "ticks": ""
            },
            "colorscale": [
             [
              0,
              "#0d0887"
             ],
             [
              0.1111111111111111,
              "#46039f"
             ],
             [
              0.2222222222222222,
              "#7201a8"
             ],
             [
              0.3333333333333333,
              "#9c179e"
             ],
             [
              0.4444444444444444,
              "#bd3786"
             ],
             [
              0.5555555555555556,
              "#d8576b"
             ],
             [
              0.6666666666666666,
              "#ed7953"
             ],
             [
              0.7777777777777778,
              "#fb9f3a"
             ],
             [
              0.8888888888888888,
              "#fdca26"
             ],
             [
              1,
              "#f0f921"
             ]
            ],
            "type": "contour"
           }
          ],
          "contourcarpet": [
           {
            "colorbar": {
             "outlinewidth": 0,
             "ticks": ""
            },
            "type": "contourcarpet"
           }
          ],
          "heatmap": [
           {
            "colorbar": {
             "outlinewidth": 0,
             "ticks": ""
            },
            "colorscale": [
             [
              0,
              "#0d0887"
             ],
             [
              0.1111111111111111,
              "#46039f"
             ],
             [
              0.2222222222222222,
              "#7201a8"
             ],
             [
              0.3333333333333333,
              "#9c179e"
             ],
             [
              0.4444444444444444,
              "#bd3786"
             ],
             [
              0.5555555555555556,
              "#d8576b"
             ],
             [
              0.6666666666666666,
              "#ed7953"
             ],
             [
              0.7777777777777778,
              "#fb9f3a"
             ],
             [
              0.8888888888888888,
              "#fdca26"
             ],
             [
              1,
              "#f0f921"
             ]
            ],
            "type": "heatmap"
           }
          ],
          "heatmapgl": [
           {
            "colorbar": {
             "outlinewidth": 0,
             "ticks": ""
            },
            "colorscale": [
             [
              0,
              "#0d0887"
             ],
             [
              0.1111111111111111,
              "#46039f"
             ],
             [
              0.2222222222222222,
              "#7201a8"
             ],
             [
              0.3333333333333333,
              "#9c179e"
             ],
             [
              0.4444444444444444,
              "#bd3786"
             ],
             [
              0.5555555555555556,
              "#d8576b"
             ],
             [
              0.6666666666666666,
              "#ed7953"
             ],
             [
              0.7777777777777778,
              "#fb9f3a"
             ],
             [
              0.8888888888888888,
              "#fdca26"
             ],
             [
              1,
              "#f0f921"
             ]
            ],
            "type": "heatmapgl"
           }
          ],
          "histogram": [
           {
            "marker": {
             "pattern": {
              "fillmode": "overlay",
              "size": 10,
              "solidity": 0.2
             }
            },
            "type": "histogram"
           }
          ],
          "histogram2d": [
           {
            "colorbar": {
             "outlinewidth": 0,
             "ticks": ""
            },
            "colorscale": [
             [
              0,
              "#0d0887"
             ],
             [
              0.1111111111111111,
              "#46039f"
             ],
             [
              0.2222222222222222,
              "#7201a8"
             ],
             [
              0.3333333333333333,
              "#9c179e"
             ],
             [
              0.4444444444444444,
              "#bd3786"
             ],
             [
              0.5555555555555556,
              "#d8576b"
             ],
             [
              0.6666666666666666,
              "#ed7953"
             ],
             [
              0.7777777777777778,
              "#fb9f3a"
             ],
             [
              0.8888888888888888,
              "#fdca26"
             ],
             [
              1,
              "#f0f921"
             ]
            ],
            "type": "histogram2d"
           }
          ],
          "histogram2dcontour": [
           {
            "colorbar": {
             "outlinewidth": 0,
             "ticks": ""
            },
            "colorscale": [
             [
              0,
              "#0d0887"
             ],
             [
              0.1111111111111111,
              "#46039f"
             ],
             [
              0.2222222222222222,
              "#7201a8"
             ],
             [
              0.3333333333333333,
              "#9c179e"
             ],
             [
              0.4444444444444444,
              "#bd3786"
             ],
             [
              0.5555555555555556,
              "#d8576b"
             ],
             [
              0.6666666666666666,
              "#ed7953"
             ],
             [
              0.7777777777777778,
              "#fb9f3a"
             ],
             [
              0.8888888888888888,
              "#fdca26"
             ],
             [
              1,
              "#f0f921"
             ]
            ],
            "type": "histogram2dcontour"
           }
          ],
          "mesh3d": [
           {
            "colorbar": {
             "outlinewidth": 0,
             "ticks": ""
            },
            "type": "mesh3d"
           }
          ],
          "parcoords": [
           {
            "line": {
             "colorbar": {
              "outlinewidth": 0,
              "ticks": ""
             }
            },
            "type": "parcoords"
           }
          ],
          "pie": [
           {
            "automargin": true,
            "type": "pie"
           }
          ],
          "scatter": [
           {
            "fillpattern": {
             "fillmode": "overlay",
             "size": 10,
             "solidity": 0.2
            },
            "type": "scatter"
           }
          ],
          "scatter3d": [
           {
            "line": {
             "colorbar": {
              "outlinewidth": 0,
              "ticks": ""
             }
            },
            "marker": {
             "colorbar": {
              "outlinewidth": 0,
              "ticks": ""
             }
            },
            "type": "scatter3d"
           }
          ],
          "scattercarpet": [
           {
            "marker": {
             "colorbar": {
              "outlinewidth": 0,
              "ticks": ""
             }
            },
            "type": "scattercarpet"
           }
          ],
          "scattergeo": [
           {
            "marker": {
             "colorbar": {
              "outlinewidth": 0,
              "ticks": ""
             }
            },
            "type": "scattergeo"
           }
          ],
          "scattergl": [
           {
            "marker": {
             "colorbar": {
              "outlinewidth": 0,
              "ticks": ""
             }
            },
            "type": "scattergl"
           }
          ],
          "scattermapbox": [
           {
            "marker": {
             "colorbar": {
              "outlinewidth": 0,
              "ticks": ""
             }
            },
            "type": "scattermapbox"
           }
          ],
          "scatterpolar": [
           {
            "marker": {
             "colorbar": {
              "outlinewidth": 0,
              "ticks": ""
             }
            },
            "type": "scatterpolar"
           }
          ],
          "scatterpolargl": [
           {
            "marker": {
             "colorbar": {
              "outlinewidth": 0,
              "ticks": ""
             }
            },
            "type": "scatterpolargl"
           }
          ],
          "scatterternary": [
           {
            "marker": {
             "colorbar": {
              "outlinewidth": 0,
              "ticks": ""
             }
            },
            "type": "scatterternary"
           }
          ],
          "surface": [
           {
            "colorbar": {
             "outlinewidth": 0,
             "ticks": ""
            },
            "colorscale": [
             [
              0,
              "#0d0887"
             ],
             [
              0.1111111111111111,
              "#46039f"
             ],
             [
              0.2222222222222222,
              "#7201a8"
             ],
             [
              0.3333333333333333,
              "#9c179e"
             ],
             [
              0.4444444444444444,
              "#bd3786"
             ],
             [
              0.5555555555555556,
              "#d8576b"
             ],
             [
              0.6666666666666666,
              "#ed7953"
             ],
             [
              0.7777777777777778,
              "#fb9f3a"
             ],
             [
              0.8888888888888888,
              "#fdca26"
             ],
             [
              1,
              "#f0f921"
             ]
            ],
            "type": "surface"
           }
          ],
          "table": [
           {
            "cells": {
             "fill": {
              "color": "#EBF0F8"
             },
             "line": {
              "color": "white"
             }
            },
            "header": {
             "fill": {
              "color": "#C8D4E3"
             },
             "line": {
              "color": "white"
             }
            },
            "type": "table"
           }
          ]
         },
         "layout": {
          "annotationdefaults": {
           "arrowcolor": "#2a3f5f",
           "arrowhead": 0,
           "arrowwidth": 1
          },
          "autotypenumbers": "strict",
          "coloraxis": {
           "colorbar": {
            "outlinewidth": 0,
            "ticks": ""
           }
          },
          "colorscale": {
           "diverging": [
            [
             0,
             "#8e0152"
            ],
            [
             0.1,
             "#c51b7d"
            ],
            [
             0.2,
             "#de77ae"
            ],
            [
             0.3,
             "#f1b6da"
            ],
            [
             0.4,
             "#fde0ef"
            ],
            [
             0.5,
             "#f7f7f7"
            ],
            [
             0.6,
             "#e6f5d0"
            ],
            [
             0.7,
             "#b8e186"
            ],
            [
             0.8,
             "#7fbc41"
            ],
            [
             0.9,
             "#4d9221"
            ],
            [
             1,
             "#276419"
            ]
           ],
           "sequential": [
            [
             0,
             "#0d0887"
            ],
            [
             0.1111111111111111,
             "#46039f"
            ],
            [
             0.2222222222222222,
             "#7201a8"
            ],
            [
             0.3333333333333333,
             "#9c179e"
            ],
            [
             0.4444444444444444,
             "#bd3786"
            ],
            [
             0.5555555555555556,
             "#d8576b"
            ],
            [
             0.6666666666666666,
             "#ed7953"
            ],
            [
             0.7777777777777778,
             "#fb9f3a"
            ],
            [
             0.8888888888888888,
             "#fdca26"
            ],
            [
             1,
             "#f0f921"
            ]
           ],
           "sequentialminus": [
            [
             0,
             "#0d0887"
            ],
            [
             0.1111111111111111,
             "#46039f"
            ],
            [
             0.2222222222222222,
             "#7201a8"
            ],
            [
             0.3333333333333333,
             "#9c179e"
            ],
            [
             0.4444444444444444,
             "#bd3786"
            ],
            [
             0.5555555555555556,
             "#d8576b"
            ],
            [
             0.6666666666666666,
             "#ed7953"
            ],
            [
             0.7777777777777778,
             "#fb9f3a"
            ],
            [
             0.8888888888888888,
             "#fdca26"
            ],
            [
             1,
             "#f0f921"
            ]
           ]
          },
          "colorway": [
           "#636efa",
           "#EF553B",
           "#00cc96",
           "#ab63fa",
           "#FFA15A",
           "#19d3f3",
           "#FF6692",
           "#B6E880",
           "#FF97FF",
           "#FECB52"
          ],
          "font": {
           "color": "#2a3f5f"
          },
          "geo": {
           "bgcolor": "white",
           "lakecolor": "white",
           "landcolor": "#E5ECF6",
           "showlakes": true,
           "showland": true,
           "subunitcolor": "white"
          },
          "hoverlabel": {
           "align": "left"
          },
          "hovermode": "closest",
          "mapbox": {
           "style": "light"
          },
          "paper_bgcolor": "white",
          "plot_bgcolor": "#E5ECF6",
          "polar": {
           "angularaxis": {
            "gridcolor": "white",
            "linecolor": "white",
            "ticks": ""
           },
           "bgcolor": "#E5ECF6",
           "radialaxis": {
            "gridcolor": "white",
            "linecolor": "white",
            "ticks": ""
           }
          },
          "scene": {
           "xaxis": {
            "backgroundcolor": "#E5ECF6",
            "gridcolor": "white",
            "gridwidth": 2,
            "linecolor": "white",
            "showbackground": true,
            "ticks": "",
            "zerolinecolor": "white"
           },
           "yaxis": {
            "backgroundcolor": "#E5ECF6",
            "gridcolor": "white",
            "gridwidth": 2,
            "linecolor": "white",
            "showbackground": true,
            "ticks": "",
            "zerolinecolor": "white"
           },
           "zaxis": {
            "backgroundcolor": "#E5ECF6",
            "gridcolor": "white",
            "gridwidth": 2,
            "linecolor": "white",
            "showbackground": true,
            "ticks": "",
            "zerolinecolor": "white"
           }
          },
          "shapedefaults": {
           "line": {
            "color": "#2a3f5f"
           }
          },
          "ternary": {
           "aaxis": {
            "gridcolor": "white",
            "linecolor": "white",
            "ticks": ""
           },
           "baxis": {
            "gridcolor": "white",
            "linecolor": "white",
            "ticks": ""
           },
           "bgcolor": "#E5ECF6",
           "caxis": {
            "gridcolor": "white",
            "linecolor": "white",
            "ticks": ""
           }
          },
          "title": {
           "x": 0.05
          },
          "xaxis": {
           "automargin": true,
           "gridcolor": "white",
           "linecolor": "white",
           "ticks": "",
           "title": {
            "standoff": 15
           },
           "zerolinecolor": "white",
           "zerolinewidth": 2
          },
          "yaxis": {
           "automargin": true,
           "gridcolor": "white",
           "linecolor": "white",
           "ticks": "",
           "title": {
            "standoff": 15
           },
           "zerolinecolor": "white",
           "zerolinewidth": 2
          }
         }
        },
        "title": {
         "text": "Status das Empresas"
        },
        "width": 800,
        "xaxis": {
         "anchor": "y",
         "categoryarray": [
          "Falidas",
          "Ativas"
         ],
         "categoryorder": "array",
         "domain": [
          0,
          1
         ],
         "title": {
          "text": "Status"
         }
        },
        "yaxis": {
         "anchor": "x",
         "domain": [
          0,
          1
         ],
         "title": {
          "text": "Número de Empresas"
         }
        }
       }
      }
     },
     "metadata": {},
     "output_type": "display_data"
    }
   ],
   "source": [
    "import plotly.express as px\n",
    "# Contar o número de empresas ativas e falidas\n",
    "status_counts = df['operates_within_2_years'].value_counts().sort_index()\n",
    "\n",
    "# Criando um DataFrame para facilitar o plot\n",
    "status_data = pd.DataFrame({\n",
    "    'Status': ['Falidas', 'Ativas'],\n",
    "    'Quantidade': [status_counts.get(0, 0), status_counts.get(1, 0)]  # Se não houver 0 ou 1, retorna 0\n",
    "})\n",
    "fig = px.bar(\n",
    "    status_data, \n",
    "    x='Status', \n",
    "    y='Quantidade', \n",
    "    color='Status',\n",
    "    color_discrete_map={'Falidas': 'red', 'Ativas': 'green'},\n",
    "    title='Status das Empresas', \n",
    "    text='Quantidade',\n",
    "    width=800,  \n",
    "    height=500  \n",
    ")\n",
    "\n",
    "fig.update_traces(texttemplate='%{text}', textposition='outside')\n",
    "fig.update_layout(yaxis_title='Número de Empresas', xaxis_title='Status')\n",
    "fig.show()\n"
   ]
  },
  {
   "cell_type": "markdown",
   "metadata": {},
   "source": [
    "## Filtro para trabalhar apenas com empresas do ano de 2012\n",
    "___"
   ]
  },
  {
   "cell_type": "code",
   "execution_count": 86,
   "metadata": {},
   "outputs": [],
   "source": [
    "df = df[df['year'] == 2012]"
   ]
  },
  {
   "cell_type": "code",
   "execution_count": 87,
   "metadata": {},
   "outputs": [
    {
     "data": {
      "text/html": [
       "<div>\n",
       "<style scoped>\n",
       "    .dataframe tbody tr th:only-of-type {\n",
       "        vertical-align: middle;\n",
       "    }\n",
       "\n",
       "    .dataframe tbody tr th {\n",
       "        vertical-align: top;\n",
       "    }\n",
       "\n",
       "    .dataframe thead th {\n",
       "        text-align: right;\n",
       "    }\n",
       "</style>\n",
       "<table border=\"1\" class=\"dataframe\">\n",
       "  <thead>\n",
       "    <tr style=\"text-align: right;\">\n",
       "      <th></th>\n",
       "      <th>comp_id</th>\n",
       "      <th>begin</th>\n",
       "      <th>end</th>\n",
       "      <th>COGS</th>\n",
       "      <th>amort</th>\n",
       "      <th>curr_assets</th>\n",
       "      <th>curr_liab</th>\n",
       "      <th>extra_exp</th>\n",
       "      <th>extra_inc</th>\n",
       "      <th>extra_profit_loss</th>\n",
       "      <th>...</th>\n",
       "      <th>origin</th>\n",
       "      <th>nace_main</th>\n",
       "      <th>ind2</th>\n",
       "      <th>ind</th>\n",
       "      <th>urban_m</th>\n",
       "      <th>region_m</th>\n",
       "      <th>founded_date</th>\n",
       "      <th>exit_date</th>\n",
       "      <th>labor_avg</th>\n",
       "      <th>operates_within_2_years</th>\n",
       "    </tr>\n",
       "  </thead>\n",
       "  <tbody>\n",
       "    <tr>\n",
       "      <th>7</th>\n",
       "      <td>1001034.0</td>\n",
       "      <td>2012-01-01</td>\n",
       "      <td>2012-12-31</td>\n",
       "      <td>NaN</td>\n",
       "      <td>140.740738</td>\n",
       "      <td>148.148148</td>\n",
       "      <td>21429.628906</td>\n",
       "      <td>0.0</td>\n",
       "      <td>0.0</td>\n",
       "      <td>0.0</td>\n",
       "      <td>...</td>\n",
       "      <td>Domestic</td>\n",
       "      <td>5630.0</td>\n",
       "      <td>56.0</td>\n",
       "      <td>3.0</td>\n",
       "      <td>1</td>\n",
       "      <td>Central</td>\n",
       "      <td>1990-11-19</td>\n",
       "      <td>NaN</td>\n",
       "      <td>0.083333</td>\n",
       "      <td>0</td>\n",
       "    </tr>\n",
       "    <tr>\n",
       "      <th>14</th>\n",
       "      <td>1001541.0</td>\n",
       "      <td>2012-01-01</td>\n",
       "      <td>2012-12-31</td>\n",
       "      <td>NaN</td>\n",
       "      <td>481.481476</td>\n",
       "      <td>9629.629883</td>\n",
       "      <td>1303.703735</td>\n",
       "      <td>0.0</td>\n",
       "      <td>0.0</td>\n",
       "      <td>0.0</td>\n",
       "      <td>...</td>\n",
       "      <td>Domestic</td>\n",
       "      <td>5610.0</td>\n",
       "      <td>56.0</td>\n",
       "      <td>3.0</td>\n",
       "      <td>3</td>\n",
       "      <td>Central</td>\n",
       "      <td>2008-02-24</td>\n",
       "      <td>NaN</td>\n",
       "      <td>NaN</td>\n",
       "      <td>1</td>\n",
       "    </tr>\n",
       "    <tr>\n",
       "      <th>23</th>\n",
       "      <td>1002029.0</td>\n",
       "      <td>2012-01-01</td>\n",
       "      <td>2012-12-31</td>\n",
       "      <td>NaN</td>\n",
       "      <td>14929.629883</td>\n",
       "      <td>203885.187500</td>\n",
       "      <td>120444.453125</td>\n",
       "      <td>0.0</td>\n",
       "      <td>0.0</td>\n",
       "      <td>0.0</td>\n",
       "      <td>...</td>\n",
       "      <td>Domestic</td>\n",
       "      <td>2711.0</td>\n",
       "      <td>27.0</td>\n",
       "      <td>2.0</td>\n",
       "      <td>3</td>\n",
       "      <td>East</td>\n",
       "      <td>2006-07-03</td>\n",
       "      <td>NaN</td>\n",
       "      <td>0.458333</td>\n",
       "      <td>1</td>\n",
       "    </tr>\n",
       "    <tr>\n",
       "      <th>35</th>\n",
       "      <td>1003200.0</td>\n",
       "      <td>2012-01-01</td>\n",
       "      <td>2012-12-31</td>\n",
       "      <td>NaN</td>\n",
       "      <td>25.925926</td>\n",
       "      <td>22.222221</td>\n",
       "      <td>10996.295898</td>\n",
       "      <td>0.0</td>\n",
       "      <td>0.0</td>\n",
       "      <td>0.0</td>\n",
       "      <td>...</td>\n",
       "      <td>Domestic</td>\n",
       "      <td>5630.0</td>\n",
       "      <td>56.0</td>\n",
       "      <td>3.0</td>\n",
       "      <td>1</td>\n",
       "      <td>Central</td>\n",
       "      <td>2003-10-21</td>\n",
       "      <td>2014-08-09</td>\n",
       "      <td>NaN</td>\n",
       "      <td>0</td>\n",
       "    </tr>\n",
       "    <tr>\n",
       "      <th>48</th>\n",
       "      <td>1007261.0</td>\n",
       "      <td>2012-01-01</td>\n",
       "      <td>2012-12-31</td>\n",
       "      <td>NaN</td>\n",
       "      <td>0.000000</td>\n",
       "      <td>255.555557</td>\n",
       "      <td>9207.407227</td>\n",
       "      <td>0.0</td>\n",
       "      <td>0.0</td>\n",
       "      <td>0.0</td>\n",
       "      <td>...</td>\n",
       "      <td>Domestic</td>\n",
       "      <td>5610.0</td>\n",
       "      <td>56.0</td>\n",
       "      <td>3.0</td>\n",
       "      <td>1</td>\n",
       "      <td>Central</td>\n",
       "      <td>2010-08-26</td>\n",
       "      <td>2015-11-19</td>\n",
       "      <td>0.083333</td>\n",
       "      <td>0</td>\n",
       "    </tr>\n",
       "  </tbody>\n",
       "</table>\n",
       "<p>5 rows × 49 columns</p>\n",
       "</div>"
      ],
      "text/plain": [
       "      comp_id      begin        end  COGS         amort    curr_assets  \\\n",
       "7   1001034.0 2012-01-01 2012-12-31   NaN    140.740738     148.148148   \n",
       "14  1001541.0 2012-01-01 2012-12-31   NaN    481.481476    9629.629883   \n",
       "23  1002029.0 2012-01-01 2012-12-31   NaN  14929.629883  203885.187500   \n",
       "35  1003200.0 2012-01-01 2012-12-31   NaN     25.925926      22.222221   \n",
       "48  1007261.0 2012-01-01 2012-12-31   NaN      0.000000     255.555557   \n",
       "\n",
       "        curr_liab  extra_exp  extra_inc  extra_profit_loss  ...    origin  \\\n",
       "7    21429.628906        0.0        0.0                0.0  ...  Domestic   \n",
       "14    1303.703735        0.0        0.0                0.0  ...  Domestic   \n",
       "23  120444.453125        0.0        0.0                0.0  ...  Domestic   \n",
       "35   10996.295898        0.0        0.0                0.0  ...  Domestic   \n",
       "48    9207.407227        0.0        0.0                0.0  ...  Domestic   \n",
       "\n",
       "    nace_main  ind2  ind  urban_m  region_m  founded_date   exit_date  \\\n",
       "7      5630.0  56.0  3.0        1   Central    1990-11-19         NaN   \n",
       "14     5610.0  56.0  3.0        3   Central    2008-02-24         NaN   \n",
       "23     2711.0  27.0  2.0        3      East    2006-07-03         NaN   \n",
       "35     5630.0  56.0  3.0        1   Central    2003-10-21  2014-08-09   \n",
       "48     5610.0  56.0  3.0        1   Central    2010-08-26  2015-11-19   \n",
       "\n",
       "    labor_avg  operates_within_2_years  \n",
       "7    0.083333                        0  \n",
       "14        NaN                        1  \n",
       "23   0.458333                        1  \n",
       "35        NaN                        0  \n",
       "48   0.083333                        0  \n",
       "\n",
       "[5 rows x 49 columns]"
      ]
     },
     "execution_count": 87,
     "metadata": {},
     "output_type": "execute_result"
    }
   ],
   "source": [
    "df.head()"
   ]
  },
  {
   "cell_type": "markdown",
   "metadata": {},
   "source": [
    "### Criando variaveis auxiliares com base nas colunas com dados administrativos das empresas:"
   ]
  },
  {
   "cell_type": "code",
   "execution_count": 88,
   "metadata": {},
   "outputs": [
    {
     "name": "stdout",
     "output_type": "stream",
     "text": [
      "      comp_id      begin        end  COGS         amort    curr_assets  \\\n",
      "7   1001034.0 2012-01-01 2012-12-31   NaN    140.740738     148.148148   \n",
      "14  1001541.0 2012-01-01 2012-12-31   NaN    481.481476    9629.629883   \n",
      "23  1002029.0 2012-01-01 2012-12-31   NaN  14929.629883  203885.187500   \n",
      "35  1003200.0 2012-01-01 2012-12-31   NaN     25.925926      22.222221   \n",
      "48  1007261.0 2012-01-01 2012-12-31   NaN      0.000000     255.555557   \n",
      "\n",
      "    extra_exp  extra_inc  extra_profit_loss  finished_prod  ...  ind  urban_m  \\\n",
      "7         0.0        0.0                0.0            NaN  ...  3.0        1   \n",
      "14        0.0        0.0                0.0            NaN  ...  3.0        3   \n",
      "23        0.0        0.0                0.0            NaN  ...  2.0        3   \n",
      "35        0.0        0.0                0.0            NaN  ...  3.0        1   \n",
      "48        0.0        0.0                0.0            NaN  ...  3.0        1   \n",
      "\n",
      "    region_m  founded_date   exit_date  labor_avg  operates_within_2_years  \\\n",
      "7    Central    1990-11-19         NaN   0.083333                        0   \n",
      "14   Central    2008-02-24         NaN        NaN                        1   \n",
      "23      East    2006-07-03         NaN   0.458333                        1   \n",
      "35   Central    2003-10-21  2014-08-09        NaN                        0   \n",
      "48   Central    2010-08-26  2015-11-19   0.083333                        0   \n",
      "\n",
      "    liquidity_ratio  profit_margin  leverage_ratio  \n",
      "7          0.001210       0.000000       -1.023346  \n",
      "14         6.940341      -6.415384        0.006816  \n",
      "23         0.125184       0.008554        1.293093  \n",
      "35         0.002021      -0.840425       -0.462317  \n",
      "48         0.027755       0.000000       -1.028548  \n",
      "\n",
      "[5 rows x 48 columns]\n"
     ]
    }
   ],
   "source": [
    "import numpy as np\n",
    "\n",
    "# Verificar se as colunas necessárias estão presentes no DataFrame\n",
    "required_columns = ['liq_assets', 'curr_liab', 'profit_loss_year', 'sales', 'share_eq']\n",
    "missing_columns = [col for col in required_columns if col not in df.columns]\n",
    "\n",
    "if missing_columns:\n",
    "    print(f\"As seguintes colunas estão faltando no DataFrame: {missing_columns}\")\n",
    "else:\n",
    "    # Criando as colunas derivadas e lidando com NaN ou infinito\n",
    "    # Razão de Liquidez: Se houver divisão por zero ou NaN, o resultado será substituído por 0\n",
    "    df.loc[:, 'liquidity_ratio'] = np.where(\n",
    "        df['curr_liab'] == 0, 0, df['liq_assets'] / df['curr_liab']\n",
    "    )\n",
    "    df['liquidity_ratio'].replace([np.inf, -np.inf, np.nan], 0, inplace=True)\n",
    "\n",
    "    # Margem de Lucro: Lidando com valores faltantes ou divisões por zero\n",
    "    df.loc[:, 'profit_margin'] = np.where(\n",
    "        df['sales'] == 0, 0, df['profit_loss_year'] / df['sales']\n",
    "    )\n",
    "    df['profit_margin'].replace([np.inf, -np.inf, np.nan], 0, inplace=True)\n",
    "\n",
    "    # Alavancagem: Substituindo divisões por zero ou NaN por 0\n",
    "    df.loc[:, 'leverage_ratio'] = np.where(\n",
    "        df['share_eq'] == 0, 0, df['curr_liab'] / df['share_eq']\n",
    "    )\n",
    "    df['leverage_ratio'].replace([np.inf, -np.inf, np.nan], 0, inplace=True)\n",
    "\n",
    "    # Removendo as colunas originais após a criação das variáveis derivadas\n",
    "    df = df.drop(columns=['liq_assets', 'curr_liab', 'profit_loss_year', 'share_eq'])\n",
    "\n",
    "    # Verificando as primeiras linhas para garantir o resultado\n",
    "    print(df.head())\n"
   ]
  },
  {
   "cell_type": "markdown",
   "metadata": {},
   "source": [
    "## Retirando as colunas `'COGS', 'finished_prod', 'net_dom_sales','net_exp_sales', 'wages', 'D'` e checando missing em outras colunas\n",
    "___"
   ]
  },
  {
   "cell_type": "markdown",
   "metadata": {},
   "source": [
    "Retirando todas as colunas com alta taxa de missing, de acorda com um limite pré-definido:"
   ]
  },
  {
   "cell_type": "code",
   "execution_count": 89,
   "metadata": {},
   "outputs": [
    {
     "name": "stdout",
     "output_type": "stream",
     "text": [
      "D                    100.000000\n",
      "finished_prod         94.854052\n",
      "wages                 94.766237\n",
      "net_exp_sales         94.685447\n",
      "net_dom_sales         94.685447\n",
      "COGS                  94.685447\n",
      "exit_year             88.039622\n",
      "exit_date             86.030419\n",
      "birth_year            26.909972\n",
      "labor_avg             24.834030\n",
      "founded_year          11.201658\n",
      "foreign               11.194633\n",
      "ceo_count             11.194633\n",
      "origin                11.194633\n",
      "gender                11.194633\n",
      "inoffice_days         11.194633\n",
      "female                11.194633\n",
      "personnel_exp          3.835751\n",
      "amort                  3.835751\n",
      "material_exp           3.835751\n",
      "inc_bef_tax            3.593382\n",
      "extra_profit_loss      3.593382\n",
      "sales                  3.593382\n",
      "extra_exp              3.593382\n",
      "extra_inc              3.593382\n",
      "ind                    2.999754\n",
      "region_m               0.273982\n",
      "fixed_assets           0.070252\n",
      "curr_assets            0.070252\n",
      "tang_assets            0.070252\n",
      "intang_assets          0.070252\n",
      "subscribed_cap         0.070252\n",
      "inventories            0.070252\n",
      "nace_main              0.021076\n",
      "ind2                   0.021076\n",
      "founded_date           0.010538\n",
      "dtype: float64\n"
     ]
    }
   ],
   "source": [
    "#Checando as colunas e seus respectivos valores de missing\n",
    "percent_missing = df.isnull().mean() * 100\n",
    "missing_columns = percent_missing[percent_missing > 0].sort_values(ascending=False)\n",
    "print(missing_columns)"
   ]
  },
  {
   "cell_type": "markdown",
   "metadata": {},
   "source": [
    "Retirando as colunas com valor de missing acima do limite exceto a coluna `founded_year` que será necessária adiante"
   ]
  },
  {
   "cell_type": "code",
   "execution_count": 90,
   "metadata": {},
   "outputs": [
    {
     "name": "stdout",
     "output_type": "stream",
     "text": [
      "             comp_id      begin        end         amort   curr_assets  \\\n",
      "7       1.001034e+06 2012-01-01 2012-12-31    140.740738  1.481481e+02   \n",
      "14      1.001541e+06 2012-01-01 2012-12-31    481.481476  9.629630e+03   \n",
      "23      1.002029e+06 2012-01-01 2012-12-31  14929.629883  2.038852e+05   \n",
      "35      1.003200e+06 2012-01-01 2012-12-31     25.925926  2.222222e+01   \n",
      "48      1.007261e+06 2012-01-01 2012-12-31      0.000000  2.555556e+02   \n",
      "...              ...        ...        ...           ...           ...   \n",
      "287779  4.639820e+11 2012-01-01 2012-12-31  16337.037109  3.140000e+04   \n",
      "287790  4.640212e+11 2012-01-01 2012-12-31   3566.666748  3.149630e+04   \n",
      "287798  4.640446e+11 2012-01-01 2012-12-31  76059.257812  4.776548e+06   \n",
      "287814  4.641050e+11 2012-01-01 2012-12-31   1311.111084  3.261481e+04   \n",
      "287825  4.641209e+11 2012-01-01 2012-12-31      0.000000  1.518519e+03   \n",
      "\n",
      "        extra_exp  extra_inc  extra_profit_loss   fixed_assets    inc_bef_tax  \\\n",
      "7        0.000000        0.0           0.000000     340.740753   -2474.073975   \n",
      "14       0.000000        0.0           0.000000  190566.671875   -7696.296387   \n",
      "23       0.000000        0.0           0.000000   23459.259766   11818.518555   \n",
      "35       0.000000        0.0           0.000000       0.000000   -2337.037109   \n",
      "48       0.000000        0.0           0.000000       0.000000   -4670.370605   \n",
      "...           ...        ...                ...            ...            ...   \n",
      "287779   0.000000        0.0           0.000000  113266.656250  -51051.851562   \n",
      "287790   0.000000        0.0           0.000000   31707.408203     462.962952   \n",
      "287798   0.000000        0.0           0.000000  286355.562500  944962.937500   \n",
      "287814  22.222221        0.0         -22.222221    8125.925781     422.222229   \n",
      "287825   0.000000        0.0           0.000000       0.000000    -381.481476   \n",
      "\n",
      "        ...  ind2  ind  urban_m  region_m  founded_date  \\\n",
      "7       ...  56.0  3.0        1   Central    1990-11-19   \n",
      "14      ...  56.0  3.0        3   Central    2008-02-24   \n",
      "23      ...  27.0  2.0        3      East    2006-07-03   \n",
      "35      ...  56.0  3.0        1   Central    2003-10-21   \n",
      "48      ...  56.0  3.0        1   Central    2010-08-26   \n",
      "...     ...   ...  ...      ...       ...           ...   \n",
      "287779  ...  28.0  2.0        1   Central    1995-05-14   \n",
      "287790  ...  28.0  2.0        2   Central    2006-05-09   \n",
      "287798  ...  33.0  2.0        3   Central    2008-10-09   \n",
      "287814  ...  56.0  3.0        3      West    1989-04-28   \n",
      "287825  ...  55.0  3.0        2      East    1990-08-22   \n",
      "\n",
      "        operates_within_2_years  liquidity_ratio  profit_margin  \\\n",
      "7                             0         0.001210       0.000000   \n",
      "14                            1         6.940341      -6.415384   \n",
      "23                            1         0.125184       0.008554   \n",
      "35                            0         0.002021      -0.840425   \n",
      "48                            0         0.027755       0.000000   \n",
      "...                         ...              ...            ...   \n",
      "287779                        1         0.751004      -0.269098   \n",
      "287790                        1         0.064576       0.006814   \n",
      "287798                        1         0.112254       0.017434   \n",
      "287814                        1         1.352330       0.001339   \n",
      "287825                        0        15.769231       0.000000   \n",
      "\n",
      "        leverage_ratio  founded_year  \n",
      "7            -1.023346        1990.0  \n",
      "14            0.006816        2008.0  \n",
      "23            1.293093        2006.0  \n",
      "35           -0.462317        2003.0  \n",
      "48           -1.028548        2010.0  \n",
      "...                ...           ...  \n",
      "287779        0.061023        1995.0  \n",
      "287790        0.392886        2006.0  \n",
      "287798        2.053811        2008.0  \n",
      "287814        0.370329        1989.0  \n",
      "287825        0.067708        1990.0  \n",
      "\n",
      "[28469 rows x 32 columns]\n"
     ]
    }
   ],
   "source": [
    "limite = 0.1  # limite da taxa de missing\n",
    "\n",
    "# Excluindo as colunas acima do limite de missing, exceto 'founded_year'\n",
    "colunas_para_manter = df.columns[df.isnull().mean() <= limite].tolist()\n",
    "\n",
    "# Garantindo que a coluna 'founded_year' esteja na lista, mesmo que tenha mais de 10% de missing\n",
    "if 'founded_year' not in colunas_para_manter:\n",
    "    colunas_para_manter.append('founded_year')\n",
    "\n",
    "# Criando o DataFrame filtrado\n",
    "df = df[colunas_para_manter]\n",
    "\n",
    "# Verificando o DataFrame resultante\n",
    "print(df)\n"
   ]
  },
  {
   "cell_type": "markdown",
   "metadata": {},
   "source": [
    "Preenchendo valores faltantes nas colunas de acordo com seu tipo:"
   ]
  },
  {
   "cell_type": "code",
   "execution_count": 91,
   "metadata": {},
   "outputs": [
    {
     "name": "stdout",
     "output_type": "stream",
     "text": [
      "comp_id                    0\n",
      "begin                      0\n",
      "end                        0\n",
      "amort                      0\n",
      "curr_assets                0\n",
      "extra_exp                  0\n",
      "extra_inc                  0\n",
      "extra_profit_loss          0\n",
      "fixed_assets               0\n",
      "inc_bef_tax                0\n",
      "intang_assets              0\n",
      "inventories                0\n",
      "material_exp               0\n",
      "personnel_exp              0\n",
      "sales                      0\n",
      "subscribed_cap             0\n",
      "tang_assets                0\n",
      "balsheet_flag              0\n",
      "balsheet_length            0\n",
      "balsheet_notfullyear       0\n",
      "year                       0\n",
      "nace_main                  0\n",
      "ind2                       0\n",
      "ind                        0\n",
      "urban_m                    0\n",
      "region_m                   0\n",
      "founded_date               0\n",
      "operates_within_2_years    0\n",
      "liquidity_ratio            0\n",
      "profit_margin              0\n",
      "leverage_ratio             0\n",
      "founded_year               0\n",
      "dtype: int64\n"
     ]
    }
   ],
   "source": [
    "# Substituir valores Inf por NaN, para que sejam removidos ou preenchidos corretamente\n",
    "df.replace([np.inf, -np.inf], np.nan, inplace=True)\n",
    "\n",
    "# Estratégia 1: Para colunas numéricas, preencher com a mediana\n",
    "numerical_cols = df.select_dtypes(include=['float64', 'int64']).columns\n",
    "df[numerical_cols] = df[numerical_cols].fillna(df[numerical_cols].median())\n",
    "\n",
    "# Estratégia 2: Para colunas categóricas, preencher com a moda (valor mais frequente)\n",
    "categorical_cols = df.select_dtypes(include=['object', 'category']).columns\n",
    "df[categorical_cols] = df[categorical_cols].fillna(df[categorical_cols].mode().iloc[0])\n",
    "\n",
    "# Verificando o DataFrame resultante\n",
    "print(df.isnull().sum())  # Deve retornar 0 missing values se o preenchimento foi bem sucedido\n"
   ]
  },
  {
   "cell_type": "markdown",
   "metadata": {},
   "source": [
    "Como a base de dados possuí um número alto de colunas, fizemos um filtro mais rigoroso para missing, uma vez que isso não afetará o numero de variavéis para treinamento do modelo de forma muito significativa, e nos garantirá um modelo melhor por ser treinado em um banco de dados com baixa taxa de missing."
   ]
  },
  {
   "cell_type": "code",
   "execution_count": 92,
   "metadata": {},
   "outputs": [
    {
     "name": "stdout",
     "output_type": "stream",
     "text": [
      "Series([], dtype: float64)\n"
     ]
    }
   ],
   "source": [
    "# Checando a taxa de missing nas colunas após filtragem\n",
    "percent_missing = df.isnull().mean() * 100\n",
    "missing_columns = percent_missing[percent_missing > 0].sort_values(ascending=False)\n",
    "print(missing_columns)"
   ]
  },
  {
   "cell_type": "code",
   "execution_count": 93,
   "metadata": {},
   "outputs": [
    {
     "data": {
      "text/plain": [
       "32"
      ]
     },
     "execution_count": 93,
     "metadata": {},
     "output_type": "execute_result"
    }
   ],
   "source": [
    "# checando as colunas presentas no dataframe para ver quantas variaveis teremos para trabalhar em nosso modelo\n",
    "df.shape[1]"
   ]
  },
  {
   "cell_type": "markdown",
   "metadata": {},
   "source": [
    "## Trabalhando as incosistencias\n",
    "___"
   ]
  },
  {
   "cell_type": "markdown",
   "metadata": {},
   "source": [
    "### Ajustando a coluna sales"
   ]
  },
  {
   "cell_type": "markdown",
   "metadata": {},
   "source": [
    "### Filtrando os dados para empresas com revenue abaixo de 10 milhões\n",
    "Como não há uma coluna `revenue`, iremos considerar que `sales` corresponde à receita da empresa"
   ]
  },
  {
   "cell_type": "code",
   "execution_count": 94,
   "metadata": {},
   "outputs": [
    {
     "data": {
      "text/plain": [
       "count    2.846900e+04\n",
       "mean     4.216520e+05\n",
       "std      3.468619e+06\n",
       "min     -1.834445e+04\n",
       "25%      3.766667e+03\n",
       "50%      2.515556e+04\n",
       "75%      9.184815e+04\n",
       "max      1.058662e+08\n",
       "Name: sales, dtype: float64"
      ]
     },
     "execution_count": 94,
     "metadata": {},
     "output_type": "execute_result"
    }
   ],
   "source": [
    "df['sales'].describe()"
   ]
  },
  {
   "cell_type": "markdown",
   "metadata": {},
   "source": [
    "### Checando a assimetria da coluna `Sales`"
   ]
  },
  {
   "cell_type": "code",
   "execution_count": 95,
   "metadata": {},
   "outputs": [
    {
     "data": {
      "text/plain": [
       "18.021435612229606"
      ]
     },
     "execution_count": 95,
     "metadata": {},
     "output_type": "execute_result"
    }
   ],
   "source": [
    "df[\"sales\"].skew()"
   ]
  },
  {
   "cell_type": "code",
   "execution_count": 96,
   "metadata": {},
   "outputs": [
    {
     "name": "stdout",
     "output_type": "stream",
     "text": [
      "Skewness antes da transformação: 18.021436597791894\n"
     ]
    },
    {
     "name": "stderr",
     "output_type": "stream",
     "text": [
      "c:\\Users\\helio\\anaconda3\\Lib\\site-packages\\seaborn\\_oldcore.py:1119: FutureWarning:\n",
      "\n",
      "use_inf_as_na option is deprecated and will be removed in a future version. Convert inf values to NaN before operating instead.\n",
      "\n"
     ]
    },
    {
     "name": "stdout",
     "output_type": "stream",
     "text": [
      "Skewness depois da transformação: -1.1401093333323502\n"
     ]
    },
    {
     "name": "stderr",
     "output_type": "stream",
     "text": [
      "c:\\Users\\helio\\anaconda3\\Lib\\site-packages\\seaborn\\_oldcore.py:1119: FutureWarning:\n",
      "\n",
      "use_inf_as_na option is deprecated and will be removed in a future version. Convert inf values to NaN before operating instead.\n",
      "\n"
     ]
    },
    {
     "data": {
      "image/png": "[encoded data removed]",
      "text/plain": [
       "<Figure size 1200x600 with 2 Axes>"
      ]
     },
     "metadata": {},
     "output_type": "display_data"
    }
   ],
   "source": [
    "# Tratando valores negativos em 'sales' antes de qualquer operação\n",
    "df['sales'] = np.where(df['sales'] < 0, 0, df['sales'])  # Substituindo negativos por zero\n",
    "\n",
    "# Calculando a assimetria antes da transformação\n",
    "print(\"Skewness antes da transformação:\", df[\"sales\"].skew())\n",
    "\n",
    "# Configurando o grid de subplots\n",
    "plt.figure(figsize=(12, 6))\n",
    "\n",
    "# Primeiro subplot: Distribuição original\n",
    "plt.subplot(1, 2, 1)\n",
    "sns.histplot(df['sales'], kde=True, color='blue')\n",
    "plt.title('Distribuição Original de Sales')\n",
    "plt.xlabel('Sales')\n",
    "plt.ylabel('Frequência')\n",
    "\n",
    "# Aplicando a transformação logarítmica\n",
    "df['log_sales'] = np.log1p(df['sales'])\n",
    "\n",
    "# Calculando a assimetria após a transformação\n",
    "print(\"Skewness depois da transformação:\", df[\"log_sales\"].skew())\n",
    "\n",
    "# Segundo subplot: Distribuição transformada\n",
    "plt.subplot(1, 2, 2)\n",
    "sns.histplot(df['log_sales'], kde=True, color='green')\n",
    "plt.title('Distribuição de Sales Após Transformação Logarítmica')\n",
    "plt.xlabel('Log(Sales)')\n",
    "plt.ylabel('Frequência')\n",
    "\n",
    "plt.tight_layout()\n",
    "plt.show()\n"
   ]
  },
  {
   "cell_type": "markdown",
   "metadata": {},
   "source": [
    "Atribuindo a escala logarítima de `sales` para a coluna"
   ]
  },
  {
   "cell_type": "code",
   "execution_count": 97,
   "metadata": {},
   "outputs": [],
   "source": [
    "df[\"sales\"] = df[\"log_sales\"]\n",
    "df = df.drop(columns = \"log_sales\")"
   ]
  },
  {
   "cell_type": "markdown",
   "metadata": {},
   "source": [
    "### Realizando o corte de `revenue`\n",
    "Como a coluna `revenue` não existe em nossa base de dados, utilizaremos `inc_bef_tax` pois consegue refletir a receita bruta de uma empresa independete das politicas de tributação locais, assim sendo mais confiável do que `sales`"
   ]
  },
  {
   "cell_type": "code",
   "execution_count": 98,
   "metadata": {},
   "outputs": [],
   "source": [
    "df = df[(df['inc_bef_tax'] > 1000) & (df['inc_bef_tax'] < 10_000_000)] # filtrando os dados"
   ]
  },
  {
   "cell_type": "markdown",
   "metadata": {},
   "source": [
    "Checando a assimetria de outras colunas do dataset"
   ]
  },
  {
   "cell_type": "code",
   "execution_count": 99,
   "metadata": {},
   "outputs": [
    {
     "name": "stdout",
     "output_type": "stream",
     "text": [
      "Colunas com alta assimetria:\n",
      "profit_margin           89.921137\n",
      "liquidity_ratio         66.186082\n",
      "extra_exp               45.401744\n",
      "extra_inc               35.276712\n",
      "intang_assets           33.354955\n",
      "leverage_ratio          31.169030\n",
      "fixed_assets            28.253707\n",
      "subscribed_cap          28.037319\n",
      "tang_assets             21.520976\n",
      "extra_profit_loss       20.538346\n",
      "personnel_exp           19.362466\n",
      "inventories             16.084110\n",
      "curr_assets             15.059229\n",
      "amort                   13.827359\n",
      "inc_bef_tax             13.104659\n",
      "material_exp            12.646463\n",
      "balsheet_flag           11.297746\n",
      "balsheet_notfullyear     4.667426\n",
      "dtype: float64\n",
      "Coluna 'profit_margin' contém valores negativos e não será alterada\n",
      "Coluna 'liquidity_ratio' contém valores negativos e não será alterada\n",
      "Coluna 'extra_inc' contém valores negativos e não será alterada\n",
      "Coluna 'intang_assets' contém valores negativos e não será alterada\n",
      "Coluna 'leverage_ratio' contém valores negativos e não será alterada\n",
      "Coluna 'extra_profit_loss' contém valores negativos e não será alterada\n",
      "Coluna 'personnel_exp' contém valores negativos e não será alterada\n",
      "Coluna 'curr_assets' contém valores negativos e não será alterada\n",
      "Coluna 'amort' contém valores negativos e não será alterada\n",
      "Assimetria após transformação logarítmica:\n",
      "profit_margin              89.921137\n",
      "liquidity_ratio            66.186082\n",
      "extra_inc                  35.276712\n",
      "intang_assets              33.354955\n",
      "leverage_ratio             31.169030\n",
      "extra_profit_loss          20.538346\n",
      "personnel_exp              19.362466\n",
      "curr_assets                15.059229\n",
      "amort                      13.827359\n",
      "balsheet_flag              11.297746\n",
      "balsheet_notfullyear        4.667426\n",
      "extra_exp                   2.892824\n",
      "inc_bef_tax                 0.974496\n",
      "comp_id                     0.633101\n",
      "year                        0.000000\n",
      "nace_main                  -0.023224\n",
      "ind2                       -0.027849\n",
      "subscribed_cap             -0.034075\n",
      "inventories                -0.086036\n",
      "urban_m                    -0.129470\n",
      "founded_year               -0.307617\n",
      "ind                        -0.649467\n",
      "material_exp               -0.813510\n",
      "tang_assets                -0.839980\n",
      "fixed_assets               -0.867508\n",
      "sales                      -1.693228\n",
      "operates_within_2_years    -2.428333\n",
      "balsheet_length            -6.603245\n",
      "dtype: float64\n",
      "Colunas restantes no DataFrame:\n",
      "Index(['comp_id', 'begin', 'end', 'amort', 'curr_assets', 'extra_exp',\n",
      "       'extra_inc', 'extra_profit_loss', 'fixed_assets', 'inc_bef_tax',\n",
      "       'intang_assets', 'inventories', 'material_exp', 'personnel_exp',\n",
      "       'sales', 'subscribed_cap', 'tang_assets', 'balsheet_flag',\n",
      "       'balsheet_length', 'balsheet_notfullyear', 'year', 'nace_main', 'ind2',\n",
      "       'ind', 'urban_m', 'region_m', 'founded_date', 'operates_within_2_years',\n",
      "       'liquidity_ratio', 'profit_margin', 'leverage_ratio', 'founded_year'],\n",
      "      dtype='object')\n"
     ]
    }
   ],
   "source": [
    "# Verificando a assimetria (skewness) de todas as colunas numéricas\n",
    "numeric_cols = df.select_dtypes(include=[np.number]).columns\n",
    "skewed_cols = df[numeric_cols].skew().sort_values(ascending=False)\n",
    "\n",
    "# Exibir as colunas com alta assimetria positiva (por exemplo, acima de 1)\n",
    "print(\"Colunas com alta assimetria:\")\n",
    "print(skewed_cols[skewed_cols > 1])\n",
    "\n",
    "# Criando uma lista para armazenar colunas que devem ser removidas\n",
    "#colunas_para_remover = []\n",
    "\n",
    "# Aplicando a transformação logarítmica apenas às colunas com alta assimetria e sem valores negativos\n",
    "for col in skewed_cols[skewed_cols > 1].index:\n",
    "    if (df[col] >= 0).all():  # Verificar se todos os valores são >= 0\n",
    "        df[col] = np.log1p(df[col])  # Usando log1p para evitar problemas com valores zero ou negativos\n",
    "    else:\n",
    "        print(f\"Coluna '{col}' contém valores negativos e não será alterada\")\n",
    "        #colunas_para_remover.append(col)\n",
    "\n",
    "# Verificando a nova assimetria após a transformação\n",
    "new_skewed_cols = df[numeric_cols].skew().sort_values(ascending=False)\n",
    "print(\"Assimetria após transformação logarítmica:\")\n",
    "print(new_skewed_cols)\n",
    "\n",
    "# Remover colunas que possuem alta assimetria após a transformação\n",
    "#for col in new_skewed_cols[new_skewed_cols > 1].index:\n",
    "    #print(f\"Coluna '{col}' ainda possui alta assimetria e será removida.\")\n",
    "    #colunas_para_remover.append(col)\n",
    "\n",
    "# Remover as colunas do DataFrame\n",
    "#df = df.drop(columns=colunas_para_remover)\n",
    "\n",
    "# Exibir as colunas restantes\n",
    "print(\"Colunas restantes no DataFrame:\")\n",
    "print(df.columns)"
   ]
  },
  {
   "cell_type": "markdown",
   "metadata": {},
   "source": [
    "### Criando a coluna `Idade_da_empresa`"
   ]
  },
  {
   "cell_type": "code",
   "execution_count": 100,
   "metadata": {},
   "outputs": [
    {
     "data": {
      "text/plain": [
       "23      6.0\n",
       "56     20.0\n",
       "113    14.0\n",
       "135     2.0\n",
       "170     4.0\n",
       "Name: Idade_da_empresa, dtype: float64"
      ]
     },
     "execution_count": 100,
     "metadata": {},
     "output_type": "execute_result"
    }
   ],
   "source": [
    "df['Idade_da_empresa'] = np.where(\n",
    "    (df['year'].isna()) | (df['founded_year'].isna()),  # Condição: se 'year' ou 'founded_year' forem NaN\n",
    "    np.nan,  # Se a condição for verdadeira (há missing values), preenche com NaN\n",
    "    df['year'] - df['founded_year']  # Caso contrário, realiza a subtração normalmente\n",
    ")\n",
    "df['Idade_da_empresa'].head()"
   ]
  },
  {
   "cell_type": "markdown",
   "metadata": {},
   "source": [
    "### Codificando as colunas não numéricas para serem utilizadas nos modelos: "
   ]
  },
  {
   "cell_type": "code",
   "execution_count": 101,
   "metadata": {},
   "outputs": [],
   "source": [
    "# Codificar 'region_m' (aqui estou usando Label Encoding)\n",
    "# Se houver poucas categorias, podemos usar Label Encoding\n",
    "df['region_m_encoded'] = df['region_m'].astype('category').cat.codes\n",
    "\n",
    "# Alternativamente, para One-Hot Encoding:\n",
    "# df = pd.get_dummies(df, columns=['region_m'], drop_first=True)\n",
    "\n",
    "# Codificar 'founded_date' extraindo o ano\n",
    "df['founded_year'] = pd.to_datetime(df['founded_date']).dt.year\n",
    "\n",
    "# Agora, removemos as colunas originais que foram codificadas\n",
    "df = df.drop(columns=['begin', 'end', 'region_m', 'founded_date'])"
   ]
  },
  {
   "cell_type": "code",
   "execution_count": 102,
   "metadata": {},
   "outputs": [
    {
     "data": {
      "text/html": [
       "<div>\n",
       "<style scoped>\n",
       "    .dataframe tbody tr th:only-of-type {\n",
       "        vertical-align: middle;\n",
       "    }\n",
       "\n",
       "    .dataframe tbody tr th {\n",
       "        vertical-align: top;\n",
       "    }\n",
       "\n",
       "    .dataframe thead th {\n",
       "        text-align: right;\n",
       "    }\n",
       "</style>\n",
       "<table border=\"1\" class=\"dataframe\">\n",
       "  <thead>\n",
       "    <tr style=\"text-align: right;\">\n",
       "      <th></th>\n",
       "      <th>amort</th>\n",
       "      <th>curr_assets</th>\n",
       "      <th>extra_exp</th>\n",
       "      <th>extra_inc</th>\n",
       "      <th>extra_profit_loss</th>\n",
       "      <th>fixed_assets</th>\n",
       "      <th>inc_bef_tax</th>\n",
       "      <th>intang_assets</th>\n",
       "      <th>inventories</th>\n",
       "      <th>material_exp</th>\n",
       "      <th>...</th>\n",
       "      <th>ind2</th>\n",
       "      <th>ind</th>\n",
       "      <th>urban_m</th>\n",
       "      <th>operates_within_2_years</th>\n",
       "      <th>liquidity_ratio</th>\n",
       "      <th>profit_margin</th>\n",
       "      <th>leverage_ratio</th>\n",
       "      <th>founded_year</th>\n",
       "      <th>Idade_da_empresa</th>\n",
       "      <th>region_m_encoded</th>\n",
       "    </tr>\n",
       "  </thead>\n",
       "  <tbody>\n",
       "    <tr>\n",
       "      <th>23</th>\n",
       "      <td>14929.629883</td>\n",
       "      <td>2.038852e+05</td>\n",
       "      <td>0.000000</td>\n",
       "      <td>0.0</td>\n",
       "      <td>0.000000</td>\n",
       "      <td>10.063063</td>\n",
       "      <td>9.377508</td>\n",
       "      <td>0.000000</td>\n",
       "      <td>6.520294</td>\n",
       "      <td>13.799657</td>\n",
       "      <td>...</td>\n",
       "      <td>27.0</td>\n",
       "      <td>2.0</td>\n",
       "      <td>3</td>\n",
       "      <td>1</td>\n",
       "      <td>0.125184</td>\n",
       "      <td>0.008554</td>\n",
       "      <td>1.293093</td>\n",
       "      <td>2006</td>\n",
       "      <td>6.0</td>\n",
       "      <td>1</td>\n",
       "    </tr>\n",
       "    <tr>\n",
       "      <th>56</th>\n",
       "      <td>36625.925781</td>\n",
       "      <td>1.601667e+05</td>\n",
       "      <td>0.000000</td>\n",
       "      <td>0.0</td>\n",
       "      <td>0.000000</td>\n",
       "      <td>13.746777</td>\n",
       "      <td>11.479915</td>\n",
       "      <td>1537.036987</td>\n",
       "      <td>9.381573</td>\n",
       "      <td>12.229107</td>\n",
       "      <td>...</td>\n",
       "      <td>55.0</td>\n",
       "      <td>3.0</td>\n",
       "      <td>2</td>\n",
       "      <td>1</td>\n",
       "      <td>6.967685</td>\n",
       "      <td>0.223102</td>\n",
       "      <td>0.017657</td>\n",
       "      <td>1992</td>\n",
       "      <td>20.0</td>\n",
       "      <td>2</td>\n",
       "    </tr>\n",
       "    <tr>\n",
       "      <th>113</th>\n",
       "      <td>66944.445312</td>\n",
       "      <td>2.406474e+06</td>\n",
       "      <td>9.897408</td>\n",
       "      <td>0.0</td>\n",
       "      <td>-19877.777344</td>\n",
       "      <td>14.176658</td>\n",
       "      <td>11.730968</td>\n",
       "      <td>0.000000</td>\n",
       "      <td>14.439366</td>\n",
       "      <td>15.022378</td>\n",
       "      <td>...</td>\n",
       "      <td>29.0</td>\n",
       "      <td>1.0</td>\n",
       "      <td>3</td>\n",
       "      <td>1</td>\n",
       "      <td>0.002986</td>\n",
       "      <td>0.020413</td>\n",
       "      <td>0.493680</td>\n",
       "      <td>1998</td>\n",
       "      <td>14.0</td>\n",
       "      <td>0</td>\n",
       "    </tr>\n",
       "    <tr>\n",
       "      <th>135</th>\n",
       "      <td>0.000000</td>\n",
       "      <td>8.500000e+03</td>\n",
       "      <td>0.000000</td>\n",
       "      <td>0.0</td>\n",
       "      <td>0.000000</td>\n",
       "      <td>0.000000</td>\n",
       "      <td>7.653688</td>\n",
       "      <td>0.000000</td>\n",
       "      <td>0.000000</td>\n",
       "      <td>6.843789</td>\n",
       "      <td>...</td>\n",
       "      <td>56.0</td>\n",
       "      <td>3.0</td>\n",
       "      <td>1</td>\n",
       "      <td>1</td>\n",
       "      <td>6.750000</td>\n",
       "      <td>0.371134</td>\n",
       "      <td>0.152262</td>\n",
       "      <td>2010</td>\n",
       "      <td>2.0</td>\n",
       "      <td>0</td>\n",
       "    </tr>\n",
       "    <tr>\n",
       "      <th>170</th>\n",
       "      <td>111.111107</td>\n",
       "      <td>1.631481e+04</td>\n",
       "      <td>0.000000</td>\n",
       "      <td>0.0</td>\n",
       "      <td>0.000000</td>\n",
       "      <td>6.147756</td>\n",
       "      <td>7.037060</td>\n",
       "      <td>0.000000</td>\n",
       "      <td>0.000000</td>\n",
       "      <td>9.307087</td>\n",
       "      <td>...</td>\n",
       "      <td>27.0</td>\n",
       "      <td>2.0</td>\n",
       "      <td>2</td>\n",
       "      <td>1</td>\n",
       "      <td>10.016172</td>\n",
       "      <td>0.029699</td>\n",
       "      <td>0.090554</td>\n",
       "      <td>2008</td>\n",
       "      <td>4.0</td>\n",
       "      <td>0</td>\n",
       "    </tr>\n",
       "  </tbody>\n",
       "</table>\n",
       "<p>5 rows × 29 columns</p>\n",
       "</div>"
      ],
      "text/plain": [
       "            amort   curr_assets  extra_exp  extra_inc  extra_profit_loss  \\\n",
       "23   14929.629883  2.038852e+05   0.000000        0.0           0.000000   \n",
       "56   36625.925781  1.601667e+05   0.000000        0.0           0.000000   \n",
       "113  66944.445312  2.406474e+06   9.897408        0.0      -19877.777344   \n",
       "135      0.000000  8.500000e+03   0.000000        0.0           0.000000   \n",
       "170    111.111107  1.631481e+04   0.000000        0.0           0.000000   \n",
       "\n",
       "     fixed_assets  inc_bef_tax  intang_assets  inventories  material_exp  ...  \\\n",
       "23      10.063063     9.377508       0.000000     6.520294     13.799657  ...   \n",
       "56      13.746777    11.479915    1537.036987     9.381573     12.229107  ...   \n",
       "113     14.176658    11.730968       0.000000    14.439366     15.022378  ...   \n",
       "135      0.000000     7.653688       0.000000     0.000000      6.843789  ...   \n",
       "170      6.147756     7.037060       0.000000     0.000000      9.307087  ...   \n",
       "\n",
       "     ind2  ind  urban_m  operates_within_2_years  liquidity_ratio  \\\n",
       "23   27.0  2.0        3                        1         0.125184   \n",
       "56   55.0  3.0        2                        1         6.967685   \n",
       "113  29.0  1.0        3                        1         0.002986   \n",
       "135  56.0  3.0        1                        1         6.750000   \n",
       "170  27.0  2.0        2                        1        10.016172   \n",
       "\n",
       "     profit_margin  leverage_ratio  founded_year  Idade_da_empresa  \\\n",
       "23        0.008554        1.293093          2006               6.0   \n",
       "56        0.223102        0.017657          1992              20.0   \n",
       "113       0.020413        0.493680          1998              14.0   \n",
       "135       0.371134        0.152262          2010               2.0   \n",
       "170       0.029699        0.090554          2008               4.0   \n",
       "\n",
       "     region_m_encoded  \n",
       "23                  1  \n",
       "56                  2  \n",
       "113                 0  \n",
       "135                 0  \n",
       "170                 0  \n",
       "\n",
       "[5 rows x 29 columns]"
      ]
     },
     "execution_count": 102,
     "metadata": {},
     "output_type": "execute_result"
    }
   ],
   "source": [
    "#colunas = [\"balsheet_length\", \"year\",\"comp_id\",\"ind\",\"ind2\",\"urban_m\"]\n",
    "dadosR = df.drop(columns=\"comp_id\")\n",
    "dadosR.head()"
   ]
  },
  {
   "cell_type": "markdown",
   "metadata": {},
   "source": [
    "## Criando o dataset para treinar o modelo"
   ]
  },
  {
   "cell_type": "markdown",
   "metadata": {},
   "source": [
    "### Checando colunas com números nulos:"
   ]
  },
  {
   "cell_type": "code",
   "execution_count": 103,
   "metadata": {},
   "outputs": [
    {
     "name": "stdout",
     "output_type": "stream",
     "text": [
      "Colunas com valores NaN no dataset:\n",
      "Series([], dtype: int64)\n",
      "Colunas com valores Inf no dataset:\n",
      "Series([], dtype: int64)\n"
     ]
    }
   ],
   "source": [
    "# Verificando o total de valores NaN e imprimindo apenas colunas com NaN\n",
    "print(\"Colunas com valores NaN no dataset:\")\n",
    "nan_cols = dadosR.isnull().sum()\n",
    "print(nan_cols[nan_cols > 0])\n",
    "\n",
    "# Verificando se há valores Inf no dataset e imprimindo apenas colunas com Inf\n",
    "print(\"Colunas com valores Inf no dataset:\")\n",
    "inf_cols = (dadosR == np.inf).sum() + (dadosR == -np.inf).sum()\n",
    "print(inf_cols[inf_cols > 0])\n"
   ]
  },
  {
   "cell_type": "markdown",
   "metadata": {},
   "source": [
    "### Criando arquivo com os dados processados para serem utilizados no R"
   ]
  },
  {
   "cell_type": "code",
   "execution_count": 104,
   "metadata": {},
   "outputs": [],
   "source": [
    "dadosR.to_csv(\"dados_para_o_R.csv\", index = True)"
   ]
  },
  {
   "cell_type": "markdown",
   "metadata": {},
   "source": [
    "### Checando o formato dos dados"
   ]
  },
  {
   "cell_type": "code",
   "execution_count": 105,
   "metadata": {},
   "outputs": [
    {
     "name": "stdout",
     "output_type": "stream",
     "text": [
      "O dataset final tem 8880 linhas e 29 colunas\n"
     ]
    }
   ],
   "source": [
    "print(f\"O dataset final tem {dadosR.shape[0]} linhas e {dadosR.shape[1]} colunas\")"
   ]
  }
 ],
 "metadata": {
  "kernelspec": {
   "display_name": "Python 3 (ipykernel)",
   "language": "python",
   "name": "python3"
  },
  "language_info": {
   "codemirror_mode": {
    "name": "ipython",
    "version": 3
   },
   "file_extension": ".py",
   "mimetype": "text/x-python",
   "name": "python",
   "nbconvert_exporter": "python",
   "pygments_lexer": "ipython3",
   "version": "3.11.7"
  }
 },
 "nbformat": 4,
 "nbformat_minor": 4
}
