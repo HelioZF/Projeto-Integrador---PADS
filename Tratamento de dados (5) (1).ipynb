{
 "cells": [
  {
   "cell_type": "markdown",
   "metadata": {},
   "source": [
    "# Introdução\n",
    "___\n",
    "Este arquivo tem por objetivo realizar o tratamento de dados do arquivo `cs_bisnode_panel.csv`."
   ]
  },
  {
   "cell_type": "markdown",
   "metadata": {},
   "source": [
    "### Objetivos do tratamento de dados:\n",
    "* Remova as colunas ['COGS', 'finished_prod', 'net_dom_sales', 'net_exp_sales', 'wages', 'D']  pois elas apresentam um percentual considerável de missing data ✅\n",
    "* Remova de seus dados os registros do ano de 2016 ✅\n",
    "* Criar uma coluna para variavel resposta (use o conceito de que uma empresa deixou de operar se ela esteve ativa no\n",
    "ano X, mas não apresentou vendas em X + 2 anos) `# trabalhar nisso`\n",
    "* Filtre para trabalhar apenas com empresas do ano de 2012 ✅\n",
    "* usar np.where para ajustar Sales < 0 você já pode substituir por 0 ✅\n",
    "* * Criar uma nova coluna para a escala logaritima de `Sales`✅\n",
    "* Essa variável (`Sales`) é bastante assimétrica, concorda? Será que vale criar novas\n",
    "colunas que representem o valor em log  dessa coluna?✅\n",
    "* Será que isso também se aplica para as demais? `checar isso durante o loop de retreinamento`\n",
    "* Crie novas colunas, como idade da empresa (faça isso pela subtração de\n",
    "founded_year  e year ). Ah, cuide bem dos missing values. np.where pode ajudar\n",
    "bastante!✅\n",
    "* Filtre seus dados para ter empresas que possuem receita (revenue) abaixo de 10\n",
    "milhões de euros e acima de 1000 euros✅\n",
    "* Busque sempre embasar qualquer decisão de tratamento das variáveis. Faça isso\n",
    "com o auxílio de estatísticas descritivas e também de gráficos de apoio.✅\n"
   ]
  },
  {
   "cell_type": "markdown",
   "metadata": {},
   "source": [
    "# Importação dos dados e tratamento"
   ]
  },
  {
   "cell_type": "code",
   "execution_count": 36,
   "metadata": {},
   "outputs": [],
   "source": [
    "import pandas as pd\n",
    "import numpy as np\n",
    "import matplotlib.pyplot as plt\n",
    "import seaborn as sns\n",
    "#import pywedge"
   ]
  },
  {
   "cell_type": "code",
   "execution_count": 73,
   "metadata": {},
   "outputs": [],
   "source": [
    "#pip install --upgrade missingno"
   ]
  },
  {
   "cell_type": "code",
   "execution_count": 74,
   "metadata": {},
   "outputs": [],
   "source": [
    "#pip install matplotlib==3.1.3\n"
   ]
  },
  {
   "cell_type": "code",
   "execution_count": 75,
   "metadata": {},
   "outputs": [],
   "source": [
    "import missingno as msno"
   ]
  },
  {
   "cell_type": "code",
   "execution_count": 37,
   "metadata": {},
   "outputs": [
    {
     "data": {
      "text/html": [
       "<div>\n",
       "<style scoped>\n",
       "    .dataframe tbody tr th:only-of-type {\n",
       "        vertical-align: middle;\n",
       "    }\n",
       "\n",
       "    .dataframe tbody tr th {\n",
       "        vertical-align: top;\n",
       "    }\n",
       "\n",
       "    .dataframe thead th {\n",
       "        text-align: right;\n",
       "    }\n",
       "</style>\n",
       "<table border=\"1\" class=\"dataframe\">\n",
       "  <thead>\n",
       "    <tr style=\"text-align: right;\">\n",
       "      <th></th>\n",
       "      <th>comp_id</th>\n",
       "      <th>begin</th>\n",
       "      <th>end</th>\n",
       "      <th>COGS</th>\n",
       "      <th>amort</th>\n",
       "      <th>curr_assets</th>\n",
       "      <th>curr_liab</th>\n",
       "      <th>extra_exp</th>\n",
       "      <th>extra_inc</th>\n",
       "      <th>extra_profit_loss</th>\n",
       "      <th>...</th>\n",
       "      <th>gender</th>\n",
       "      <th>origin</th>\n",
       "      <th>nace_main</th>\n",
       "      <th>ind2</th>\n",
       "      <th>ind</th>\n",
       "      <th>urban_m</th>\n",
       "      <th>region_m</th>\n",
       "      <th>founded_date</th>\n",
       "      <th>exit_date</th>\n",
       "      <th>labor_avg</th>\n",
       "    </tr>\n",
       "  </thead>\n",
       "  <tbody>\n",
       "    <tr>\n",
       "      <th>0</th>\n",
       "      <td>1001034.0</td>\n",
       "      <td>2005-01-01</td>\n",
       "      <td>2005-12-31</td>\n",
       "      <td>NaN</td>\n",
       "      <td>692.592590</td>\n",
       "      <td>7266.666504</td>\n",
       "      <td>7574.074219</td>\n",
       "      <td>0.0</td>\n",
       "      <td>0.0</td>\n",
       "      <td>0.0</td>\n",
       "      <td>...</td>\n",
       "      <td>mix</td>\n",
       "      <td>Domestic</td>\n",
       "      <td>5630.0</td>\n",
       "      <td>56.0</td>\n",
       "      <td>3.0</td>\n",
       "      <td>1</td>\n",
       "      <td>Central</td>\n",
       "      <td>1990-11-19</td>\n",
       "      <td>NaN</td>\n",
       "      <td>NaN</td>\n",
       "    </tr>\n",
       "    <tr>\n",
       "      <th>1</th>\n",
       "      <td>1001034.0</td>\n",
       "      <td>2006-01-01</td>\n",
       "      <td>2006-12-31</td>\n",
       "      <td>NaN</td>\n",
       "      <td>603.703674</td>\n",
       "      <td>13122.222656</td>\n",
       "      <td>12211.111328</td>\n",
       "      <td>0.0</td>\n",
       "      <td>0.0</td>\n",
       "      <td>0.0</td>\n",
       "      <td>...</td>\n",
       "      <td>mix</td>\n",
       "      <td>Domestic</td>\n",
       "      <td>5630.0</td>\n",
       "      <td>56.0</td>\n",
       "      <td>3.0</td>\n",
       "      <td>1</td>\n",
       "      <td>Central</td>\n",
       "      <td>1990-11-19</td>\n",
       "      <td>NaN</td>\n",
       "      <td>NaN</td>\n",
       "    </tr>\n",
       "    <tr>\n",
       "      <th>2</th>\n",
       "      <td>1001034.0</td>\n",
       "      <td>2007-01-01</td>\n",
       "      <td>2007-12-31</td>\n",
       "      <td>NaN</td>\n",
       "      <td>425.925934</td>\n",
       "      <td>8196.295898</td>\n",
       "      <td>7800.000000</td>\n",
       "      <td>0.0</td>\n",
       "      <td>0.0</td>\n",
       "      <td>0.0</td>\n",
       "      <td>...</td>\n",
       "      <td>mix</td>\n",
       "      <td>Domestic</td>\n",
       "      <td>5630.0</td>\n",
       "      <td>56.0</td>\n",
       "      <td>3.0</td>\n",
       "      <td>1</td>\n",
       "      <td>Central</td>\n",
       "      <td>1990-11-19</td>\n",
       "      <td>NaN</td>\n",
       "      <td>NaN</td>\n",
       "    </tr>\n",
       "    <tr>\n",
       "      <th>3</th>\n",
       "      <td>1001034.0</td>\n",
       "      <td>2008-01-01</td>\n",
       "      <td>2008-12-31</td>\n",
       "      <td>NaN</td>\n",
       "      <td>300.000000</td>\n",
       "      <td>8485.185547</td>\n",
       "      <td>7781.481445</td>\n",
       "      <td>0.0</td>\n",
       "      <td>0.0</td>\n",
       "      <td>0.0</td>\n",
       "      <td>...</td>\n",
       "      <td>mix</td>\n",
       "      <td>Domestic</td>\n",
       "      <td>5630.0</td>\n",
       "      <td>56.0</td>\n",
       "      <td>3.0</td>\n",
       "      <td>1</td>\n",
       "      <td>Central</td>\n",
       "      <td>1990-11-19</td>\n",
       "      <td>NaN</td>\n",
       "      <td>NaN</td>\n",
       "    </tr>\n",
       "    <tr>\n",
       "      <th>4</th>\n",
       "      <td>1001034.0</td>\n",
       "      <td>2009-01-01</td>\n",
       "      <td>2009-12-31</td>\n",
       "      <td>NaN</td>\n",
       "      <td>207.407410</td>\n",
       "      <td>5137.037109</td>\n",
       "      <td>15300.000000</td>\n",
       "      <td>0.0</td>\n",
       "      <td>0.0</td>\n",
       "      <td>0.0</td>\n",
       "      <td>...</td>\n",
       "      <td>mix</td>\n",
       "      <td>Domestic</td>\n",
       "      <td>5630.0</td>\n",
       "      <td>56.0</td>\n",
       "      <td>3.0</td>\n",
       "      <td>1</td>\n",
       "      <td>Central</td>\n",
       "      <td>1990-11-19</td>\n",
       "      <td>NaN</td>\n",
       "      <td>0.083333</td>\n",
       "    </tr>\n",
       "  </tbody>\n",
       "</table>\n",
       "<p>5 rows × 48 columns</p>\n",
       "</div>"
      ],
      "text/plain": [
       "     comp_id       begin         end  COGS       amort   curr_assets  \\\n",
       "0  1001034.0  2005-01-01  2005-12-31   NaN  692.592590   7266.666504   \n",
       "1  1001034.0  2006-01-01  2006-12-31   NaN  603.703674  13122.222656   \n",
       "2  1001034.0  2007-01-01  2007-12-31   NaN  425.925934   8196.295898   \n",
       "3  1001034.0  2008-01-01  2008-12-31   NaN  300.000000   8485.185547   \n",
       "4  1001034.0  2009-01-01  2009-12-31   NaN  207.407410   5137.037109   \n",
       "\n",
       "      curr_liab  extra_exp  extra_inc  extra_profit_loss  ...  gender  \\\n",
       "0   7574.074219        0.0        0.0                0.0  ...     mix   \n",
       "1  12211.111328        0.0        0.0                0.0  ...     mix   \n",
       "2   7800.000000        0.0        0.0                0.0  ...     mix   \n",
       "3   7781.481445        0.0        0.0                0.0  ...     mix   \n",
       "4  15300.000000        0.0        0.0                0.0  ...     mix   \n",
       "\n",
       "     origin  nace_main  ind2  ind  urban_m  region_m  founded_date  exit_date  \\\n",
       "0  Domestic     5630.0  56.0  3.0        1   Central    1990-11-19        NaN   \n",
       "1  Domestic     5630.0  56.0  3.0        1   Central    1990-11-19        NaN   \n",
       "2  Domestic     5630.0  56.0  3.0        1   Central    1990-11-19        NaN   \n",
       "3  Domestic     5630.0  56.0  3.0        1   Central    1990-11-19        NaN   \n",
       "4  Domestic     5630.0  56.0  3.0        1   Central    1990-11-19        NaN   \n",
       "\n",
       "   labor_avg  \n",
       "0        NaN  \n",
       "1        NaN  \n",
       "2        NaN  \n",
       "3        NaN  \n",
       "4   0.083333  \n",
       "\n",
       "[5 rows x 48 columns]"
      ]
     },
     "execution_count": 37,
     "metadata": {},
     "output_type": "execute_result"
    }
   ],
   "source": [
    "df = pd.read_csv(\"cs_bisnode_panel.csv\")\n",
    "df.head()"
   ]
  },
  {
   "cell_type": "code",
   "execution_count": 77,
   "metadata": {},
   "outputs": [],
   "source": [
    "#msno.matrix(df)"
   ]
  },
  {
   "cell_type": "markdown",
   "metadata": {},
   "source": [
    "Transformando as colunas de data para o foramto `dateTime`"
   ]
  },
  {
   "cell_type": "code",
   "execution_count": 38,
   "metadata": {},
   "outputs": [],
   "source": [
    "df[\"begin\"] = pd.to_datetime(df['begin'])\n",
    "df[\"end\"] = pd.to_datetime(df['end'])\n",
    "df[\"year\"] = pd.to_datetime(df['year'])"
   ]
  },
  {
   "cell_type": "markdown",
   "metadata": {},
   "source": [
    "Checando valores faltantes na base de dados:"
   ]
  },
  {
   "cell_type": "code",
   "execution_count": 39,
   "metadata": {},
   "outputs": [
    {
     "data": {
      "image/png": "[encoded data removed]",
      "text/plain": [
       "<Figure size 1200x800 with 1 Axes>"
      ]
     },
     "metadata": {},
     "output_type": "display_data"
    }
   ],
   "source": [
    "# Calcular o número de valores faltantes por coluna\n",
    "missing_values = df.isnull().sum()\n",
    "\n",
    "# Filtrar colunas com valores faltantes\n",
    "missing_values = missing_values[missing_values > 0]\n",
    "\n",
    "# Ordenar os valores em ordem decrescente\n",
    "missing_values.sort_values(inplace=True)\n",
    "\n",
    "# Criar um gráfico de barras horizontal\n",
    "plt.figure(figsize=(12, 8))\n",
    "missing_values.plot.barh()\n",
    "plt.title('Número de Valores Faltantes por Coluna')\n",
    "plt.xlabel('Número de Valores Faltantes')\n",
    "plt.ylabel('Colunas')\n",
    "plt.grid(True)\n",
    "plt.show()"
   ]
  },
  {
   "cell_type": "code",
   "execution_count": 40,
   "metadata": {},
   "outputs": [
    {
     "data": {
      "image/png": "[encoded data removed]",
      "text/plain": [
       "<Figure size 1200x600 with 1 Axes>"
      ]
     },
     "metadata": {},
     "output_type": "display_data"
    }
   ],
   "source": [
    "# Converter a coluna 'year' para tipo numérico (caso não esteja)\n",
    "df['year'] = pd.to_numeric(df['year'], errors='coerce')\n",
    "\n",
    "# Remover linhas onde 'year' é nulo\n",
    "df = df[df['year'].notnull()]\n",
    "\n",
    "# Calcular o número de valores faltantes por linha\n",
    "df['missing_count'] = df.isnull().sum(axis=1)\n",
    "\n",
    "# Agrupar por 'year' e somar o número de valores faltantes\n",
    "missing_per_year = df.groupby('year')['missing_count'].sum().reset_index()\n",
    "\n",
    "# Converter 'year' para inteiro\n",
    "missing_per_year['year'] = missing_per_year['year'].astype(int)\n",
    "\n",
    "# Ordenar os dados pelo ano\n",
    "missing_per_year = missing_per_year.sort_values('year')\n",
    "\n",
    "# Criar o gráfico de barras\n",
    "plt.figure(figsize=(12, 6))\n",
    "plt.bar(missing_per_year['year'], missing_per_year['missing_count'], color='skyblue')\n",
    "plt.title('Total de Valores Faltantes por Ano')\n",
    "plt.xlabel('Ano')\n",
    "plt.ylabel('Total de Valores Faltantes')\n",
    "plt.xticks(missing_per_year['year'], rotation=45)\n",
    "plt.tight_layout()\n",
    "plt.grid(True)\n",
    "plt.show()"
   ]
  },
  {
   "cell_type": "code",
   "execution_count": 41,
   "metadata": {},
   "outputs": [],
   "source": [
    "df = df.drop(columns=\"missing_count\")"
   ]
  },
  {
   "cell_type": "markdown",
   "metadata": {},
   "source": [
    "## Removendo dados do ano de 2016\n",
    "___"
   ]
  },
  {
   "cell_type": "markdown",
   "metadata": {},
   "source": [
    "### convertendo as colunas para o formato datetime: "
   ]
  },
  {
   "cell_type": "code",
   "execution_count": 42,
   "metadata": {},
   "outputs": [
    {
     "data": {
      "text/html": [
       "<div>\n",
       "<style scoped>\n",
       "    .dataframe tbody tr th:only-of-type {\n",
       "        vertical-align: middle;\n",
       "    }\n",
       "\n",
       "    .dataframe tbody tr th {\n",
       "        vertical-align: top;\n",
       "    }\n",
       "\n",
       "    .dataframe thead th {\n",
       "        text-align: right;\n",
       "    }\n",
       "</style>\n",
       "<table border=\"1\" class=\"dataframe\">\n",
       "  <thead>\n",
       "    <tr style=\"text-align: right;\">\n",
       "      <th></th>\n",
       "      <th>comp_id</th>\n",
       "      <th>begin</th>\n",
       "      <th>end</th>\n",
       "      <th>COGS</th>\n",
       "      <th>amort</th>\n",
       "      <th>curr_assets</th>\n",
       "      <th>curr_liab</th>\n",
       "      <th>extra_exp</th>\n",
       "      <th>extra_inc</th>\n",
       "      <th>extra_profit_loss</th>\n",
       "      <th>...</th>\n",
       "      <th>gender</th>\n",
       "      <th>origin</th>\n",
       "      <th>nace_main</th>\n",
       "      <th>ind2</th>\n",
       "      <th>ind</th>\n",
       "      <th>urban_m</th>\n",
       "      <th>region_m</th>\n",
       "      <th>founded_date</th>\n",
       "      <th>exit_date</th>\n",
       "      <th>labor_avg</th>\n",
       "    </tr>\n",
       "  </thead>\n",
       "  <tbody>\n",
       "    <tr>\n",
       "      <th>0</th>\n",
       "      <td>1001034.0</td>\n",
       "      <td>2005-01-01</td>\n",
       "      <td>2005-12-31</td>\n",
       "      <td>NaN</td>\n",
       "      <td>692.592590</td>\n",
       "      <td>7266.666504</td>\n",
       "      <td>7574.074219</td>\n",
       "      <td>0.0</td>\n",
       "      <td>0.0</td>\n",
       "      <td>0.0</td>\n",
       "      <td>...</td>\n",
       "      <td>mix</td>\n",
       "      <td>Domestic</td>\n",
       "      <td>5630.0</td>\n",
       "      <td>56.0</td>\n",
       "      <td>3.0</td>\n",
       "      <td>1</td>\n",
       "      <td>Central</td>\n",
       "      <td>1990-11-19</td>\n",
       "      <td>NaN</td>\n",
       "      <td>NaN</td>\n",
       "    </tr>\n",
       "    <tr>\n",
       "      <th>1</th>\n",
       "      <td>1001034.0</td>\n",
       "      <td>2006-01-01</td>\n",
       "      <td>2006-12-31</td>\n",
       "      <td>NaN</td>\n",
       "      <td>603.703674</td>\n",
       "      <td>13122.222656</td>\n",
       "      <td>12211.111328</td>\n",
       "      <td>0.0</td>\n",
       "      <td>0.0</td>\n",
       "      <td>0.0</td>\n",
       "      <td>...</td>\n",
       "      <td>mix</td>\n",
       "      <td>Domestic</td>\n",
       "      <td>5630.0</td>\n",
       "      <td>56.0</td>\n",
       "      <td>3.0</td>\n",
       "      <td>1</td>\n",
       "      <td>Central</td>\n",
       "      <td>1990-11-19</td>\n",
       "      <td>NaN</td>\n",
       "      <td>NaN</td>\n",
       "    </tr>\n",
       "    <tr>\n",
       "      <th>2</th>\n",
       "      <td>1001034.0</td>\n",
       "      <td>2007-01-01</td>\n",
       "      <td>2007-12-31</td>\n",
       "      <td>NaN</td>\n",
       "      <td>425.925934</td>\n",
       "      <td>8196.295898</td>\n",
       "      <td>7800.000000</td>\n",
       "      <td>0.0</td>\n",
       "      <td>0.0</td>\n",
       "      <td>0.0</td>\n",
       "      <td>...</td>\n",
       "      <td>mix</td>\n",
       "      <td>Domestic</td>\n",
       "      <td>5630.0</td>\n",
       "      <td>56.0</td>\n",
       "      <td>3.0</td>\n",
       "      <td>1</td>\n",
       "      <td>Central</td>\n",
       "      <td>1990-11-19</td>\n",
       "      <td>NaN</td>\n",
       "      <td>NaN</td>\n",
       "    </tr>\n",
       "    <tr>\n",
       "      <th>3</th>\n",
       "      <td>1001034.0</td>\n",
       "      <td>2008-01-01</td>\n",
       "      <td>2008-12-31</td>\n",
       "      <td>NaN</td>\n",
       "      <td>300.000000</td>\n",
       "      <td>8485.185547</td>\n",
       "      <td>7781.481445</td>\n",
       "      <td>0.0</td>\n",
       "      <td>0.0</td>\n",
       "      <td>0.0</td>\n",
       "      <td>...</td>\n",
       "      <td>mix</td>\n",
       "      <td>Domestic</td>\n",
       "      <td>5630.0</td>\n",
       "      <td>56.0</td>\n",
       "      <td>3.0</td>\n",
       "      <td>1</td>\n",
       "      <td>Central</td>\n",
       "      <td>1990-11-19</td>\n",
       "      <td>NaN</td>\n",
       "      <td>NaN</td>\n",
       "    </tr>\n",
       "    <tr>\n",
       "      <th>4</th>\n",
       "      <td>1001034.0</td>\n",
       "      <td>2009-01-01</td>\n",
       "      <td>2009-12-31</td>\n",
       "      <td>NaN</td>\n",
       "      <td>207.407410</td>\n",
       "      <td>5137.037109</td>\n",
       "      <td>15300.000000</td>\n",
       "      <td>0.0</td>\n",
       "      <td>0.0</td>\n",
       "      <td>0.0</td>\n",
       "      <td>...</td>\n",
       "      <td>mix</td>\n",
       "      <td>Domestic</td>\n",
       "      <td>5630.0</td>\n",
       "      <td>56.0</td>\n",
       "      <td>3.0</td>\n",
       "      <td>1</td>\n",
       "      <td>Central</td>\n",
       "      <td>1990-11-19</td>\n",
       "      <td>NaN</td>\n",
       "      <td>0.083333</td>\n",
       "    </tr>\n",
       "  </tbody>\n",
       "</table>\n",
       "<p>5 rows × 48 columns</p>\n",
       "</div>"
      ],
      "text/plain": [
       "     comp_id      begin        end  COGS       amort   curr_assets  \\\n",
       "0  1001034.0 2005-01-01 2005-12-31   NaN  692.592590   7266.666504   \n",
       "1  1001034.0 2006-01-01 2006-12-31   NaN  603.703674  13122.222656   \n",
       "2  1001034.0 2007-01-01 2007-12-31   NaN  425.925934   8196.295898   \n",
       "3  1001034.0 2008-01-01 2008-12-31   NaN  300.000000   8485.185547   \n",
       "4  1001034.0 2009-01-01 2009-12-31   NaN  207.407410   5137.037109   \n",
       "\n",
       "      curr_liab  extra_exp  extra_inc  extra_profit_loss  ...  gender  \\\n",
       "0   7574.074219        0.0        0.0                0.0  ...     mix   \n",
       "1  12211.111328        0.0        0.0                0.0  ...     mix   \n",
       "2   7800.000000        0.0        0.0                0.0  ...     mix   \n",
       "3   7781.481445        0.0        0.0                0.0  ...     mix   \n",
       "4  15300.000000        0.0        0.0                0.0  ...     mix   \n",
       "\n",
       "     origin  nace_main  ind2  ind  urban_m  region_m  founded_date  exit_date  \\\n",
       "0  Domestic     5630.0  56.0  3.0        1   Central    1990-11-19        NaN   \n",
       "1  Domestic     5630.0  56.0  3.0        1   Central    1990-11-19        NaN   \n",
       "2  Domestic     5630.0  56.0  3.0        1   Central    1990-11-19        NaN   \n",
       "3  Domestic     5630.0  56.0  3.0        1   Central    1990-11-19        NaN   \n",
       "4  Domestic     5630.0  56.0  3.0        1   Central    1990-11-19        NaN   \n",
       "\n",
       "   labor_avg  \n",
       "0        NaN  \n",
       "1        NaN  \n",
       "2        NaN  \n",
       "3        NaN  \n",
       "4   0.083333  \n",
       "\n",
       "[5 rows x 48 columns]"
      ]
     },
     "execution_count": 42,
     "metadata": {},
     "output_type": "execute_result"
    }
   ],
   "source": [
    "# retinrando os dados em que o ano seja 2016 ou maior\n",
    "df = df[df[\"year\"] < 2016]\n",
    "df.head()"
   ]
  },
  {
   "cell_type": "markdown",
   "metadata": {},
   "source": [
    "## Criando a coluna indicadora de operação da empresa \n",
    "(se a empresa está operante em x+2 anos ou Não)"
   ]
  },
  {
   "cell_type": "code",
   "execution_count": 43,
   "metadata": {},
   "outputs": [],
   "source": [
    "# Ordenando o DataFrame original por 'comp_id' e 'begin' para garantir a ordem cronológica\n",
    "df_sorted = df.sort_values(by=['comp_id', 'begin'])\n",
    "\n",
    "# Criando a variável resposta 'operates_within_2_years' no DataFrame ordenado\n",
    "df_sorted['operates_within_2_years'] = df_sorted.groupby('comp_id')['sales'].shift(-2).gt(0).astype(int)\n",
    "\n",
    "# Adicionando a nova coluna 'operates_within_2_years' de df_sorted ao df original\n",
    "df['operates_within_2_years'] = df_sorted['operates_within_2_years']"
   ]
  },
  {
   "cell_type": "code",
   "execution_count": 44,
   "metadata": {},
   "outputs": [
    {
     "data": {
      "text/html": [
       "<div>\n",
       "<style scoped>\n",
       "    .dataframe tbody tr th:only-of-type {\n",
       "        vertical-align: middle;\n",
       "    }\n",
       "\n",
       "    .dataframe tbody tr th {\n",
       "        vertical-align: top;\n",
       "    }\n",
       "\n",
       "    .dataframe thead th {\n",
       "        text-align: right;\n",
       "    }\n",
       "</style>\n",
       "<table border=\"1\" class=\"dataframe\">\n",
       "  <thead>\n",
       "    <tr style=\"text-align: right;\">\n",
       "      <th></th>\n",
       "      <th>comp_id</th>\n",
       "      <th>sales</th>\n",
       "      <th>operates_within_2_years</th>\n",
       "    </tr>\n",
       "  </thead>\n",
       "  <tbody>\n",
       "    <tr>\n",
       "      <th>0</th>\n",
       "      <td>1001034.0</td>\n",
       "      <td>6.275185e+04</td>\n",
       "      <td>1</td>\n",
       "    </tr>\n",
       "    <tr>\n",
       "      <th>1</th>\n",
       "      <td>1001034.0</td>\n",
       "      <td>6.462593e+04</td>\n",
       "      <td>1</td>\n",
       "    </tr>\n",
       "    <tr>\n",
       "      <th>2</th>\n",
       "      <td>1001034.0</td>\n",
       "      <td>6.510000e+04</td>\n",
       "      <td>1</td>\n",
       "    </tr>\n",
       "    <tr>\n",
       "      <th>3</th>\n",
       "      <td>1001034.0</td>\n",
       "      <td>7.808519e+04</td>\n",
       "      <td>1</td>\n",
       "    </tr>\n",
       "    <tr>\n",
       "      <th>4</th>\n",
       "      <td>1001034.0</td>\n",
       "      <td>4.538889e+04</td>\n",
       "      <td>0</td>\n",
       "    </tr>\n",
       "    <tr>\n",
       "      <th>5</th>\n",
       "      <td>1001034.0</td>\n",
       "      <td>9.929630e+03</td>\n",
       "      <td>0</td>\n",
       "    </tr>\n",
       "    <tr>\n",
       "      <th>6</th>\n",
       "      <td>1001034.0</td>\n",
       "      <td>0.000000e+00</td>\n",
       "      <td>0</td>\n",
       "    </tr>\n",
       "    <tr>\n",
       "      <th>7</th>\n",
       "      <td>1001034.0</td>\n",
       "      <td>0.000000e+00</td>\n",
       "      <td>0</td>\n",
       "    </tr>\n",
       "    <tr>\n",
       "      <th>8</th>\n",
       "      <td>1001034.0</td>\n",
       "      <td>0.000000e+00</td>\n",
       "      <td>0</td>\n",
       "    </tr>\n",
       "    <tr>\n",
       "      <th>9</th>\n",
       "      <td>1001034.0</td>\n",
       "      <td>0.000000e+00</td>\n",
       "      <td>0</td>\n",
       "    </tr>\n",
       "    <tr>\n",
       "      <th>10</th>\n",
       "      <td>1001034.0</td>\n",
       "      <td>0.000000e+00</td>\n",
       "      <td>0</td>\n",
       "    </tr>\n",
       "    <tr>\n",
       "      <th>11</th>\n",
       "      <td>1001541.0</td>\n",
       "      <td>9.259259e+02</td>\n",
       "      <td>0</td>\n",
       "    </tr>\n",
       "    <tr>\n",
       "      <th>12</th>\n",
       "      <td>1001541.0</td>\n",
       "      <td>0.000000e+00</td>\n",
       "      <td>1</td>\n",
       "    </tr>\n",
       "    <tr>\n",
       "      <th>13</th>\n",
       "      <td>1001541.0</td>\n",
       "      <td>0.000000e+00</td>\n",
       "      <td>1</td>\n",
       "    </tr>\n",
       "    <tr>\n",
       "      <th>14</th>\n",
       "      <td>1001541.0</td>\n",
       "      <td>1.203704e+03</td>\n",
       "      <td>1</td>\n",
       "    </tr>\n",
       "    <tr>\n",
       "      <th>15</th>\n",
       "      <td>1001541.0</td>\n",
       "      <td>5.555556e+03</td>\n",
       "      <td>1</td>\n",
       "    </tr>\n",
       "    <tr>\n",
       "      <th>16</th>\n",
       "      <td>1001541.0</td>\n",
       "      <td>4.888889e+03</td>\n",
       "      <td>0</td>\n",
       "    </tr>\n",
       "    <tr>\n",
       "      <th>17</th>\n",
       "      <td>1001541.0</td>\n",
       "      <td>4.888889e+03</td>\n",
       "      <td>0</td>\n",
       "    </tr>\n",
       "    <tr>\n",
       "      <th>18</th>\n",
       "      <td>1002029.0</td>\n",
       "      <td>3.475889e+05</td>\n",
       "      <td>1</td>\n",
       "    </tr>\n",
       "    <tr>\n",
       "      <th>19</th>\n",
       "      <td>1002029.0</td>\n",
       "      <td>8.272148e+05</td>\n",
       "      <td>1</td>\n",
       "    </tr>\n",
       "    <tr>\n",
       "      <th>20</th>\n",
       "      <td>1002029.0</td>\n",
       "      <td>6.838556e+05</td>\n",
       "      <td>1</td>\n",
       "    </tr>\n",
       "    <tr>\n",
       "      <th>21</th>\n",
       "      <td>1002029.0</td>\n",
       "      <td>8.437741e+05</td>\n",
       "      <td>1</td>\n",
       "    </tr>\n",
       "    <tr>\n",
       "      <th>22</th>\n",
       "      <td>1002029.0</td>\n",
       "      <td>5.732222e+05</td>\n",
       "      <td>1</td>\n",
       "    </tr>\n",
       "    <tr>\n",
       "      <th>23</th>\n",
       "      <td>1002029.0</td>\n",
       "      <td>1.136515e+06</td>\n",
       "      <td>1</td>\n",
       "    </tr>\n",
       "    <tr>\n",
       "      <th>24</th>\n",
       "      <td>1002029.0</td>\n",
       "      <td>3.580630e+05</td>\n",
       "      <td>1</td>\n",
       "    </tr>\n",
       "    <tr>\n",
       "      <th>25</th>\n",
       "      <td>1002029.0</td>\n",
       "      <td>2.167519e+05</td>\n",
       "      <td>0</td>\n",
       "    </tr>\n",
       "    <tr>\n",
       "      <th>26</th>\n",
       "      <td>1002029.0</td>\n",
       "      <td>3.454037e+05</td>\n",
       "      <td>0</td>\n",
       "    </tr>\n",
       "    <tr>\n",
       "      <th>28</th>\n",
       "      <td>1003200.0</td>\n",
       "      <td>1.111852e+04</td>\n",
       "      <td>1</td>\n",
       "    </tr>\n",
       "    <tr>\n",
       "      <th>29</th>\n",
       "      <td>1003200.0</td>\n",
       "      <td>1.299630e+04</td>\n",
       "      <td>1</td>\n",
       "    </tr>\n",
       "    <tr>\n",
       "      <th>30</th>\n",
       "      <td>1003200.0</td>\n",
       "      <td>2.058519e+04</td>\n",
       "      <td>1</td>\n",
       "    </tr>\n",
       "  </tbody>\n",
       "</table>\n",
       "</div>"
      ],
      "text/plain": [
       "      comp_id         sales  operates_within_2_years\n",
       "0   1001034.0  6.275185e+04                        1\n",
       "1   1001034.0  6.462593e+04                        1\n",
       "2   1001034.0  6.510000e+04                        1\n",
       "3   1001034.0  7.808519e+04                        1\n",
       "4   1001034.0  4.538889e+04                        0\n",
       "5   1001034.0  9.929630e+03                        0\n",
       "6   1001034.0  0.000000e+00                        0\n",
       "7   1001034.0  0.000000e+00                        0\n",
       "8   1001034.0  0.000000e+00                        0\n",
       "9   1001034.0  0.000000e+00                        0\n",
       "10  1001034.0  0.000000e+00                        0\n",
       "11  1001541.0  9.259259e+02                        0\n",
       "12  1001541.0  0.000000e+00                        1\n",
       "13  1001541.0  0.000000e+00                        1\n",
       "14  1001541.0  1.203704e+03                        1\n",
       "15  1001541.0  5.555556e+03                        1\n",
       "16  1001541.0  4.888889e+03                        0\n",
       "17  1001541.0  4.888889e+03                        0\n",
       "18  1002029.0  3.475889e+05                        1\n",
       "19  1002029.0  8.272148e+05                        1\n",
       "20  1002029.0  6.838556e+05                        1\n",
       "21  1002029.0  8.437741e+05                        1\n",
       "22  1002029.0  5.732222e+05                        1\n",
       "23  1002029.0  1.136515e+06                        1\n",
       "24  1002029.0  3.580630e+05                        1\n",
       "25  1002029.0  2.167519e+05                        0\n",
       "26  1002029.0  3.454037e+05                        0\n",
       "28  1003200.0  1.111852e+04                        1\n",
       "29  1003200.0  1.299630e+04                        1\n",
       "30  1003200.0  2.058519e+04                        1"
      ]
     },
     "execution_count": 44,
     "metadata": {},
     "output_type": "execute_result"
    }
   ],
   "source": [
    "# Verificando as primeiras linhas do df para garantir que a coluna foi adicionada corretamente\n",
    "df[[\"comp_id\", \"sales\", \"operates_within_2_years\"]].head(30)"
   ]
  },
  {
   "cell_type": "markdown",
   "metadata": {},
   "source": [
    "* `groupby('comp_id')`: Agrupa os dados por empresa usando comp_id para que o cálculo de sales dois anos à frente seja feito separadamente para cada empresa.\n",
    "* `.shift(-2)`: Pega o valor de sales duas linhas à frente dentro de cada grupo, o que equivale a dois anos à frente, devido à ordenação das datas.\n",
    "* `apply(lambda x: 1 if x > 0 else 0)`: Define 1 se o valor for positivo e 0 caso contrário."
   ]
  },
  {
   "cell_type": "markdown",
   "metadata": {},
   "source": [
    "## Filtro para trabalhar apenas com empresas do ano de 2012\n",
    "___"
   ]
  },
  {
   "cell_type": "code",
   "execution_count": 45,
   "metadata": {},
   "outputs": [],
   "source": [
    "df = df[df['founded_year'] == 2012]"
   ]
  },
  {
   "cell_type": "code",
   "execution_count": 46,
   "metadata": {},
   "outputs": [
    {
     "data": {
      "text/html": [
       "<div>\n",
       "<style scoped>\n",
       "    .dataframe tbody tr th:only-of-type {\n",
       "        vertical-align: middle;\n",
       "    }\n",
       "\n",
       "    .dataframe tbody tr th {\n",
       "        vertical-align: top;\n",
       "    }\n",
       "\n",
       "    .dataframe thead th {\n",
       "        text-align: right;\n",
       "    }\n",
       "</style>\n",
       "<table border=\"1\" class=\"dataframe\">\n",
       "  <thead>\n",
       "    <tr style=\"text-align: right;\">\n",
       "      <th></th>\n",
       "      <th>comp_id</th>\n",
       "      <th>begin</th>\n",
       "      <th>end</th>\n",
       "      <th>COGS</th>\n",
       "      <th>amort</th>\n",
       "      <th>curr_assets</th>\n",
       "      <th>curr_liab</th>\n",
       "      <th>extra_exp</th>\n",
       "      <th>extra_inc</th>\n",
       "      <th>extra_profit_loss</th>\n",
       "      <th>...</th>\n",
       "      <th>origin</th>\n",
       "      <th>nace_main</th>\n",
       "      <th>ind2</th>\n",
       "      <th>ind</th>\n",
       "      <th>urban_m</th>\n",
       "      <th>region_m</th>\n",
       "      <th>founded_date</th>\n",
       "      <th>exit_date</th>\n",
       "      <th>labor_avg</th>\n",
       "      <th>operates_within_2_years</th>\n",
       "    </tr>\n",
       "  </thead>\n",
       "  <tbody>\n",
       "    <tr>\n",
       "      <th>266</th>\n",
       "      <td>1327409.0</td>\n",
       "      <td>2013-01-01</td>\n",
       "      <td>2013-12-31</td>\n",
       "      <td>NaN</td>\n",
       "      <td>0.0</td>\n",
       "      <td>14862.962891</td>\n",
       "      <td>28466.666016</td>\n",
       "      <td>0.0</td>\n",
       "      <td>0.0</td>\n",
       "      <td>0.0</td>\n",
       "      <td>...</td>\n",
       "      <td>Domestic</td>\n",
       "      <td>5630.0</td>\n",
       "      <td>56.0</td>\n",
       "      <td>3.0</td>\n",
       "      <td>3</td>\n",
       "      <td>Central</td>\n",
       "      <td>2012-02-26</td>\n",
       "      <td>2016-08-18</td>\n",
       "      <td>0.333333</td>\n",
       "      <td>0</td>\n",
       "    </tr>\n",
       "    <tr>\n",
       "      <th>342</th>\n",
       "      <td>1680873.0</td>\n",
       "      <td>2012-12-10</td>\n",
       "      <td>2012-12-31</td>\n",
       "      <td>NaN</td>\n",
       "      <td>0.0</td>\n",
       "      <td>811.111084</td>\n",
       "      <td>0.000000</td>\n",
       "      <td>0.0</td>\n",
       "      <td>0.0</td>\n",
       "      <td>0.0</td>\n",
       "      <td>...</td>\n",
       "      <td>Foreign</td>\n",
       "      <td>5630.0</td>\n",
       "      <td>56.0</td>\n",
       "      <td>3.0</td>\n",
       "      <td>3</td>\n",
       "      <td>Central</td>\n",
       "      <td>2012-11-29</td>\n",
       "      <td>NaN</td>\n",
       "      <td>NaN</td>\n",
       "      <td>1</td>\n",
       "    </tr>\n",
       "    <tr>\n",
       "      <th>343</th>\n",
       "      <td>1680873.0</td>\n",
       "      <td>2013-01-01</td>\n",
       "      <td>2013-12-31</td>\n",
       "      <td>NaN</td>\n",
       "      <td>0.0</td>\n",
       "      <td>907.407410</td>\n",
       "      <td>3333.333252</td>\n",
       "      <td>0.0</td>\n",
       "      <td>0.0</td>\n",
       "      <td>0.0</td>\n",
       "      <td>...</td>\n",
       "      <td>Foreign</td>\n",
       "      <td>5630.0</td>\n",
       "      <td>56.0</td>\n",
       "      <td>3.0</td>\n",
       "      <td>3</td>\n",
       "      <td>Central</td>\n",
       "      <td>2012-11-29</td>\n",
       "      <td>NaN</td>\n",
       "      <td>0.166667</td>\n",
       "      <td>0</td>\n",
       "    </tr>\n",
       "    <tr>\n",
       "      <th>344</th>\n",
       "      <td>1680873.0</td>\n",
       "      <td>2014-01-01</td>\n",
       "      <td>2014-12-31</td>\n",
       "      <td>NaN</td>\n",
       "      <td>0.0</td>\n",
       "      <td>33.333332</td>\n",
       "      <td>7366.666504</td>\n",
       "      <td>0.0</td>\n",
       "      <td>0.0</td>\n",
       "      <td>0.0</td>\n",
       "      <td>...</td>\n",
       "      <td>Foreign</td>\n",
       "      <td>5630.0</td>\n",
       "      <td>56.0</td>\n",
       "      <td>3.0</td>\n",
       "      <td>3</td>\n",
       "      <td>Central</td>\n",
       "      <td>2012-11-29</td>\n",
       "      <td>NaN</td>\n",
       "      <td>0.283333</td>\n",
       "      <td>0</td>\n",
       "    </tr>\n",
       "    <tr>\n",
       "      <th>345</th>\n",
       "      <td>1680873.0</td>\n",
       "      <td>2015-01-01</td>\n",
       "      <td>2015-12-31</td>\n",
       "      <td>NaN</td>\n",
       "      <td>0.0</td>\n",
       "      <td>33.333332</td>\n",
       "      <td>7451.852051</td>\n",
       "      <td>0.0</td>\n",
       "      <td>0.0</td>\n",
       "      <td>0.0</td>\n",
       "      <td>...</td>\n",
       "      <td>Foreign</td>\n",
       "      <td>5630.0</td>\n",
       "      <td>56.0</td>\n",
       "      <td>3.0</td>\n",
       "      <td>3</td>\n",
       "      <td>Central</td>\n",
       "      <td>2012-11-29</td>\n",
       "      <td>NaN</td>\n",
       "      <td>NaN</td>\n",
       "      <td>0</td>\n",
       "    </tr>\n",
       "  </tbody>\n",
       "</table>\n",
       "<p>5 rows × 49 columns</p>\n",
       "</div>"
      ],
      "text/plain": [
       "       comp_id      begin        end  COGS  amort   curr_assets     curr_liab  \\\n",
       "266  1327409.0 2013-01-01 2013-12-31   NaN    0.0  14862.962891  28466.666016   \n",
       "342  1680873.0 2012-12-10 2012-12-31   NaN    0.0    811.111084      0.000000   \n",
       "343  1680873.0 2013-01-01 2013-12-31   NaN    0.0    907.407410   3333.333252   \n",
       "344  1680873.0 2014-01-01 2014-12-31   NaN    0.0     33.333332   7366.666504   \n",
       "345  1680873.0 2015-01-01 2015-12-31   NaN    0.0     33.333332   7451.852051   \n",
       "\n",
       "     extra_exp  extra_inc  extra_profit_loss  ...    origin  nace_main  ind2  \\\n",
       "266        0.0        0.0                0.0  ...  Domestic     5630.0  56.0   \n",
       "342        0.0        0.0                0.0  ...   Foreign     5630.0  56.0   \n",
       "343        0.0        0.0                0.0  ...   Foreign     5630.0  56.0   \n",
       "344        0.0        0.0                0.0  ...   Foreign     5630.0  56.0   \n",
       "345        0.0        0.0                0.0  ...   Foreign     5630.0  56.0   \n",
       "\n",
       "     ind  urban_m  region_m  founded_date   exit_date  labor_avg  \\\n",
       "266  3.0        3   Central    2012-02-26  2016-08-18   0.333333   \n",
       "342  3.0        3   Central    2012-11-29         NaN        NaN   \n",
       "343  3.0        3   Central    2012-11-29         NaN   0.166667   \n",
       "344  3.0        3   Central    2012-11-29         NaN   0.283333   \n",
       "345  3.0        3   Central    2012-11-29         NaN        NaN   \n",
       "\n",
       "     operates_within_2_years  \n",
       "266                        0  \n",
       "342                        1  \n",
       "343                        0  \n",
       "344                        0  \n",
       "345                        0  \n",
       "\n",
       "[5 rows x 49 columns]"
      ]
     },
     "execution_count": 46,
     "metadata": {},
     "output_type": "execute_result"
    }
   ],
   "source": [
    "df.head()"
   ]
  },
  {
   "cell_type": "code",
   "execution_count": 47,
   "metadata": {},
   "outputs": [
    {
     "data": {
      "text/plain": [
       "count    6926.0\n",
       "mean     2012.0\n",
       "std         0.0\n",
       "min      2012.0\n",
       "25%      2012.0\n",
       "50%      2012.0\n",
       "75%      2012.0\n",
       "max      2012.0\n",
       "Name: founded_year, dtype: float64"
      ]
     },
     "execution_count": 47,
     "metadata": {},
     "output_type": "execute_result"
    }
   ],
   "source": [
    "df[\"founded_year\"].describe()"
   ]
  },
  {
   "cell_type": "markdown",
   "metadata": {},
   "source": [
    "### Criando variaveis auxiliares com base nas colunas com dados administrativos das empresas:"
   ]
  },
  {
   "cell_type": "code",
   "execution_count": 48,
   "metadata": {},
   "outputs": [
    {
     "name": "stdout",
     "output_type": "stream",
     "text": [
      "       comp_id      begin        end  COGS  amort   curr_assets  extra_exp  \\\n",
      "266  1327409.0 2013-01-01 2013-12-31   NaN    0.0  14862.962891        0.0   \n",
      "342  1680873.0 2012-12-10 2012-12-31   NaN    0.0    811.111084        0.0   \n",
      "343  1680873.0 2013-01-01 2013-12-31   NaN    0.0    907.407410        0.0   \n",
      "344  1680873.0 2014-01-01 2014-12-31   NaN    0.0     33.333332        0.0   \n",
      "345  1680873.0 2015-01-01 2015-12-31   NaN    0.0     33.333332        0.0   \n",
      "\n",
      "     extra_inc  extra_profit_loss  finished_prod  ...  ind  urban_m  region_m  \\\n",
      "266        0.0                0.0            NaN  ...  3.0        3   Central   \n",
      "342        0.0                0.0            NaN  ...  3.0        3   Central   \n",
      "343        0.0                0.0            NaN  ...  3.0        3   Central   \n",
      "344        0.0                0.0            NaN  ...  3.0        3   Central   \n",
      "345        0.0                0.0            NaN  ...  3.0        3   Central   \n",
      "\n",
      "     founded_date   exit_date  labor_avg  operates_within_2_years  \\\n",
      "266    2012-02-26  2016-08-18   0.333333                        0   \n",
      "342    2012-11-29         NaN        NaN                        1   \n",
      "343    2012-11-29         NaN   0.166667                        0   \n",
      "344    2012-11-29         NaN   0.283333                        0   \n",
      "345    2012-11-29         NaN        NaN                        0   \n",
      "\n",
      "     liquidity_ratio  profit_margin  leverage_ratio  \n",
      "266         0.154957      -0.292769       -2.092567  \n",
      "342         0.000000     -25.545453        0.000000  \n",
      "343         0.017778      -0.775510       -1.374046  \n",
      "344         0.001006      -0.440729       -1.441304  \n",
      "345         0.000994       0.000000       -1.004493  \n",
      "\n",
      "[5 rows x 48 columns]\n"
     ]
    },
    {
     "name": "stderr",
     "output_type": "stream",
     "text": [
      "/tmp/ipykernel_691/1645940739.py:15: FutureWarning: A value is trying to be set on a copy of a DataFrame or Series through chained assignment using an inplace method.\n",
      "The behavior will change in pandas 3.0. This inplace method will never work because the intermediate object on which we are setting values always behaves as a copy.\n",
      "\n",
      "For example, when doing 'df[col].method(value, inplace=True)', try using 'df.method({col: value}, inplace=True)' or df[col] = df[col].method(value) instead, to perform the operation inplace on the original object.\n",
      "\n",
      "\n",
      "  df['liquidity_ratio'].replace([np.inf, -np.inf, np.nan], 0, inplace=True)\n",
      "/tmp/ipykernel_691/1645940739.py:21: FutureWarning: A value is trying to be set on a copy of a DataFrame or Series through chained assignment using an inplace method.\n",
      "The behavior will change in pandas 3.0. This inplace method will never work because the intermediate object on which we are setting values always behaves as a copy.\n",
      "\n",
      "For example, when doing 'df[col].method(value, inplace=True)', try using 'df.method({col: value}, inplace=True)' or df[col] = df[col].method(value) instead, to perform the operation inplace on the original object.\n",
      "\n",
      "\n",
      "  df['profit_margin'].replace([np.inf, -np.inf, np.nan], 0, inplace=True)\n",
      "/tmp/ipykernel_691/1645940739.py:27: FutureWarning: A value is trying to be set on a copy of a DataFrame or Series through chained assignment using an inplace method.\n",
      "The behavior will change in pandas 3.0. This inplace method will never work because the intermediate object on which we are setting values always behaves as a copy.\n",
      "\n",
      "For example, when doing 'df[col].method(value, inplace=True)', try using 'df.method({col: value}, inplace=True)' or df[col] = df[col].method(value) instead, to perform the operation inplace on the original object.\n",
      "\n",
      "\n",
      "  df['leverage_ratio'].replace([np.inf, -np.inf, np.nan], 0, inplace=True)\n"
     ]
    }
   ],
   "source": [
    "import numpy as np\n",
    "\n",
    "# Verificar se as colunas necessárias estão presentes no DataFrame\n",
    "required_columns = ['liq_assets', 'curr_liab', 'profit_loss_year', 'sales', 'share_eq']\n",
    "missing_columns = [col for col in required_columns if col not in df.columns]\n",
    "\n",
    "if missing_columns:\n",
    "    print(f\"As seguintes colunas estão faltando no DataFrame: {missing_columns}\")\n",
    "else:\n",
    "    # Criando as colunas derivadas e lidando com NaN ou infinito\n",
    "    # Razão de Liquidez: Se houver divisão por zero ou NaN, o resultado será substituído por 0\n",
    "    df.loc[:, 'liquidity_ratio'] = np.where(\n",
    "        df['curr_liab'] == 0, 0, df['liq_assets'] / df['curr_liab']\n",
    "    )\n",
    "    df['liquidity_ratio'].replace([np.inf, -np.inf, np.nan], 0, inplace=True)\n",
    "\n",
    "    # Margem de Lucro: Lidando com valores faltantes ou divisões por zero\n",
    "    df.loc[:, 'profit_margin'] = np.where(\n",
    "        df['sales'] == 0, 0, df['profit_loss_year'] / df['sales']\n",
    "    )\n",
    "    df['profit_margin'].replace([np.inf, -np.inf, np.nan], 0, inplace=True)\n",
    "\n",
    "    # Alavancagem: Substituindo divisões por zero ou NaN por 0\n",
    "    df.loc[:, 'leverage_ratio'] = np.where(\n",
    "        df['share_eq'] == 0, 0, df['curr_liab'] / df['share_eq']\n",
    "    )\n",
    "    df['leverage_ratio'].replace([np.inf, -np.inf, np.nan], 0, inplace=True)\n",
    "\n",
    "    # Removendo as colunas originais após a criação das variáveis derivadas\n",
    "    df = df.drop(columns=['liq_assets', 'curr_liab', 'profit_loss_year', 'share_eq'])\n",
    "\n",
    "    # Verificando as primeiras linhas para garantir o resultado\n",
    "    print(df.head())\n"
   ]
  },
  {
   "cell_type": "markdown",
   "metadata": {},
   "source": [
    "## Retirando as colunas `'COGS', 'finished_prod', 'net_dom_sales','net_exp_sales', 'wages', 'D'` e checando missing em outras colunas\n",
    "___"
   ]
  },
  {
   "cell_type": "markdown",
   "metadata": {},
   "source": [
    "Retirando todas as colunas com alta taxa de missing, de acorda com um limite pré-definido:"
   ]
  },
  {
   "cell_type": "code",
   "execution_count": 49,
   "metadata": {},
   "outputs": [
    {
     "name": "stdout",
     "output_type": "stream",
     "text": [
      "D                    100.000000\n",
      "finished_prod         97.689864\n",
      "wages                 97.545481\n",
      "COGS                  97.531042\n",
      "net_dom_sales         97.531042\n",
      "net_exp_sales         97.531042\n",
      "exit_date             91.322553\n",
      "exit_year             91.322553\n",
      "labor_avg             36.962172\n",
      "birth_year            10.410049\n",
      "material_exp           1.631533\n",
      "amort                  1.631533\n",
      "personnel_exp          1.631533\n",
      "sales                  1.544903\n",
      "extra_exp              1.544903\n",
      "extra_profit_loss      1.544903\n",
      "extra_inc              1.544903\n",
      "inc_bef_tax            1.544903\n",
      "ind                    1.487150\n",
      "region_m               0.115507\n",
      "fixed_assets           0.028877\n",
      "tang_assets            0.028877\n",
      "curr_assets            0.028877\n",
      "inventories            0.028877\n",
      "intang_assets          0.028877\n",
      "subscribed_cap         0.028877\n",
      "dtype: float64\n"
     ]
    }
   ],
   "source": [
    "#Checando as colunas e seus respectivos valores de missing\n",
    "percent_missing = df.isnull().mean() * 100\n",
    "missing_columns = percent_missing[percent_missing > 0].sort_values(ascending=False)\n",
    "print(missing_columns)"
   ]
  },
  {
   "cell_type": "markdown",
   "metadata": {},
   "source": [
    "Retirando as colunas com valor de missing acima do limite exceto a coluna `founded_year` que será necessária adiante"
   ]
  },
  {
   "cell_type": "code",
   "execution_count": 50,
   "metadata": {},
   "outputs": [
    {
     "name": "stdout",
     "output_type": "stream",
     "text": [
      "             comp_id      begin        end      amort   curr_assets  \\\n",
      "266     1.327409e+06 2013-01-01 2013-12-31   0.000000  14862.962891   \n",
      "342     1.680873e+06 2012-12-10 2012-12-31   0.000000    811.111084   \n",
      "343     1.680873e+06 2013-01-01 2013-12-31   0.000000    907.407410   \n",
      "344     1.680873e+06 2014-01-01 2014-12-31   0.000000     33.333332   \n",
      "345     1.680873e+06 2015-01-01 2015-12-31   0.000000     33.333332   \n",
      "...              ...        ...        ...        ...           ...   \n",
      "287147  4.618393e+11 2012-09-13 2012-12-31   0.000000   2066.666748   \n",
      "287148  4.618393e+11 2013-01-01 2013-12-31   0.000000    140.740738   \n",
      "287734  4.638292e+11 2013-01-01 2013-12-31  74.074074    444.444458   \n",
      "287735  4.638292e+11 2014-01-01 2014-12-31  74.074074    440.740753   \n",
      "287736  4.638292e+11 2015-01-01 2015-12-31  74.074074    440.740753   \n",
      "\n",
      "        extra_exp  extra_inc  extra_profit_loss  fixed_assets   inc_bef_tax  \\\n",
      "266           0.0        0.0                0.0      0.000000 -15333.333008   \n",
      "342           0.0        0.0                0.0      0.000000  -1040.740723   \n",
      "343           0.0        0.0                0.0      0.000000  -3237.037109   \n",
      "344           0.0        0.0                0.0   2222.222168  -2677.777832   \n",
      "345           0.0        0.0                0.0      0.000000  -2307.407471   \n",
      "...           ...        ...                ...           ...           ...   \n",
      "287147        0.0        0.0                0.0      0.000000  -2622.222168   \n",
      "287148        0.0        0.0                0.0      0.000000  -6651.852051   \n",
      "287734        0.0        0.0                0.0    266.666656  -2214.814697   \n",
      "287735        0.0        0.0                0.0    192.592590    -74.074074   \n",
      "287736        0.0        0.0                0.0    118.518517    -74.074074   \n",
      "\n",
      "        ...  nace_main  ind2  ind  urban_m  region_m  founded_date  \\\n",
      "266     ...     5630.0  56.0  3.0        3   Central    2012-02-26   \n",
      "342     ...     5630.0  56.0  3.0        3   Central    2012-11-29   \n",
      "343     ...     5630.0  56.0  3.0        3   Central    2012-11-29   \n",
      "344     ...     5630.0  56.0  3.0        3   Central    2012-11-29   \n",
      "345     ...     5630.0  56.0  3.0        3   Central    2012-11-29   \n",
      "...     ...        ...   ...  ...      ...       ...           ...   \n",
      "287147  ...     5610.0  56.0  3.0        2   Central    2012-08-15   \n",
      "287148  ...     5610.0  56.0  3.0        2   Central    2012-08-15   \n",
      "287734  ...     5630.0  56.0  3.0        3   Central    2012-07-04   \n",
      "287735  ...     5630.0  56.0  3.0        3   Central    2012-07-04   \n",
      "287736  ...     5630.0  56.0  3.0        3   Central    2012-07-04   \n",
      "\n",
      "        operates_within_2_years  liquidity_ratio  profit_margin  \\\n",
      "266                           0         0.154957      -0.292769   \n",
      "342                           1         0.000000     -25.545453   \n",
      "343                           0         0.017778      -0.775510   \n",
      "344                           0         0.001006      -0.440729   \n",
      "345                           0         0.000994       0.000000   \n",
      "...                         ...              ...            ...   \n",
      "287147                        0         0.154345      -0.287616   \n",
      "287148                        0         0.262069      -1.279516   \n",
      "287734                        0         0.049770       0.000000   \n",
      "287735                        0         0.049770       0.000000   \n",
      "287736                        0         0.049770       0.000000   \n",
      "\n",
      "        leverage_ratio  \n",
      "266          -2.092567  \n",
      "342           0.000000  \n",
      "343          -1.374046  \n",
      "344          -1.441304  \n",
      "345          -1.004493  \n",
      "...                ...  \n",
      "287147       -3.619718  \n",
      "287148       -0.072247  \n",
      "287734       -1.172352  \n",
      "287735       -1.150661  \n",
      "287736       -1.130736  \n",
      "\n",
      "[6926 rows x 38 columns]\n"
     ]
    }
   ],
   "source": [
    "limite = 0.1  # limite da taxa de missing\n",
    "\n",
    "# Excluindo as colunas acima do limite de missing, exceto 'founded_year'\n",
    "colunas_para_manter = df.columns[df.isnull().mean() <= limite].tolist()\n",
    "\n",
    "# Garantindo que a coluna 'founded_year' esteja na lista, mesmo que tenha mais de 10% de missing\n",
    "if 'founded_year' not in colunas_para_manter:\n",
    "    colunas_para_manter.append('founded_year')\n",
    "\n",
    "# Criando o DataFrame filtrado\n",
    "df = df[colunas_para_manter]\n",
    "\n",
    "# Verificando o DataFrame resultante\n",
    "print(df)\n"
   ]
  },
  {
   "cell_type": "markdown",
   "metadata": {},
   "source": [
    "Preenchendo valores faltantes nas colunas de acordo com seu tipo:"
   ]
  },
  {
   "cell_type": "code",
   "execution_count": 51,
   "metadata": {},
   "outputs": [
    {
     "name": "stdout",
     "output_type": "stream",
     "text": [
      "comp_id                    0\n",
      "begin                      0\n",
      "end                        0\n",
      "amort                      0\n",
      "curr_assets                0\n",
      "extra_exp                  0\n",
      "extra_inc                  0\n",
      "extra_profit_loss          0\n",
      "fixed_assets               0\n",
      "inc_bef_tax                0\n",
      "intang_assets              0\n",
      "inventories                0\n",
      "material_exp               0\n",
      "personnel_exp              0\n",
      "sales                      0\n",
      "subscribed_cap             0\n",
      "tang_assets                0\n",
      "balsheet_flag              0\n",
      "balsheet_length            0\n",
      "balsheet_notfullyear       0\n",
      "year                       0\n",
      "founded_year               0\n",
      "ceo_count                  0\n",
      "foreign                    0\n",
      "female                     0\n",
      "inoffice_days              0\n",
      "gender                     0\n",
      "origin                     0\n",
      "nace_main                  0\n",
      "ind2                       0\n",
      "ind                        0\n",
      "urban_m                    0\n",
      "region_m                   0\n",
      "founded_date               0\n",
      "operates_within_2_years    0\n",
      "liquidity_ratio            0\n",
      "profit_margin              0\n",
      "leverage_ratio             0\n",
      "dtype: int64\n"
     ]
    }
   ],
   "source": [
    "# Substituir valores Inf por NaN, para que sejam removidos ou preenchidos corretamente\n",
    "df.replace([np.inf, -np.inf], np.nan, inplace=True)\n",
    "\n",
    "# Estratégia 1: Para colunas numéricas, preencher com a mediana\n",
    "numerical_cols = df.select_dtypes(include=['float64', 'int64']).columns\n",
    "df[numerical_cols] = df[numerical_cols].fillna(df[numerical_cols].median())\n",
    "\n",
    "# Estratégia 2: Para colunas categóricas, preencher com a moda (valor mais frequente)\n",
    "categorical_cols = df.select_dtypes(include=['object', 'category']).columns\n",
    "df[categorical_cols] = df[categorical_cols].fillna(df[categorical_cols].mode().iloc[0])\n",
    "\n",
    "# Verificando o DataFrame resultante\n",
    "print(df.isnull().sum())  # Deve retornar 0 missing values se o preenchimento foi bem sucedido\n"
   ]
  },
  {
   "cell_type": "markdown",
   "metadata": {},
   "source": [
    "Como a base de dados possuí um número alto de colunas, fizemos um filtro mais rigoroso para missing, uma vez que isso não afetará o numero de variavéis para treinamento do modelo de forma muito significativa, e nos garantirá um modelo melhor por ser treinado em um banco de dados com baixa taxa de missing."
   ]
  },
  {
   "cell_type": "code",
   "execution_count": 52,
   "metadata": {},
   "outputs": [
    {
     "name": "stdout",
     "output_type": "stream",
     "text": [
      "Series([], dtype: float64)\n"
     ]
    }
   ],
   "source": [
    "# Checando a taxa de missing nas colunas após filtragem\n",
    "percent_missing = df.isnull().mean() * 100\n",
    "missing_columns = percent_missing[percent_missing > 0].sort_values(ascending=False)\n",
    "print(missing_columns)"
   ]
  },
  {
   "cell_type": "code",
   "execution_count": 53,
   "metadata": {},
   "outputs": [
    {
     "data": {
      "text/plain": [
       "38"
      ]
     },
     "execution_count": 53,
     "metadata": {},
     "output_type": "execute_result"
    }
   ],
   "source": [
    "# checando as colunas presentas no dataframe para ver quantas variaveis teremos para trabalhar em nosso modelo\n",
    "df.shape[1]"
   ]
  },
  {
   "cell_type": "markdown",
   "metadata": {},
   "source": [
    "## Trabalhando as incosistencias\n",
    "___"
   ]
  },
  {
   "cell_type": "markdown",
   "metadata": {},
   "source": [
    "### Ajustando a coluna sales"
   ]
  },
  {
   "cell_type": "markdown",
   "metadata": {},
   "source": [
    "### Filtrando os dados para empresas com revenue abaixo de 10 milhões\n",
    "Como não há uma coluna `revenue`, iremos considerar que `sales` corresponde à receita da empresa"
   ]
  },
  {
   "cell_type": "code",
   "execution_count": 54,
   "metadata": {},
   "outputs": [
    {
     "data": {
      "text/plain": [
       "count    6.926000e+03\n",
       "mean     1.339007e+05\n",
       "std      1.327551e+06\n",
       "min     -7.295185e+04\n",
       "25%      1.822222e+03\n",
       "50%      1.901481e+04\n",
       "75%      6.712500e+04\n",
       "max      8.429745e+07\n",
       "Name: sales, dtype: float64"
      ]
     },
     "execution_count": 54,
     "metadata": {},
     "output_type": "execute_result"
    }
   ],
   "source": [
    "df['sales'].describe()"
   ]
  },
  {
   "cell_type": "code",
   "execution_count": 55,
   "metadata": {},
   "outputs": [],
   "source": [
    "df['sales'] = np.where(df['sales'] < 0, 0, df['sales']) # retirando valores negativos"
   ]
  },
  {
   "cell_type": "code",
   "execution_count": 56,
   "metadata": {},
   "outputs": [
    {
     "data": {
      "text/plain": [
       "count    6.926000e+03\n",
       "mean     1.339116e+05\n",
       "std      1.327550e+06\n",
       "min      0.000000e+00\n",
       "25%      1.822222e+03\n",
       "50%      1.901481e+04\n",
       "75%      6.712500e+04\n",
       "max      8.429745e+07\n",
       "Name: sales, dtype: float64"
      ]
     },
     "execution_count": 56,
     "metadata": {},
     "output_type": "execute_result"
    }
   ],
   "source": [
    "df['sales'].describe()"
   ]
  },
  {
   "cell_type": "markdown",
   "metadata": {},
   "source": [
    "### Checando a assimetria da coluna `Sales`"
   ]
  },
  {
   "cell_type": "code",
   "execution_count": 57,
   "metadata": {},
   "outputs": [
    {
     "data": {
      "text/plain": [
       "43.24180287082683"
      ]
     },
     "execution_count": 57,
     "metadata": {},
     "output_type": "execute_result"
    }
   ],
   "source": [
    "df[\"sales\"].skew()"
   ]
  },
  {
   "cell_type": "code",
   "execution_count": 61,
   "metadata": {},
   "outputs": [
    {
     "name": "stdout",
     "output_type": "stream",
     "text": [
      "Skewness antes da transformação: 43.24180287082683\n"
     ]
    },
    {
     "data": {
      "image/png": "[encoded data removed]",
      "text/plain": [
       "<Figure size 1200x600 with 1 Axes>"
      ]
     },
     "metadata": {},
     "output_type": "display_data"
    }
   ],
   "source": [
    "# Gráfico da distribuição original de 'sales' (antes da transformação)\n",
    "plt.figure(figsize=(12, 6))\n",
    "\n",
    "# Histograma e gráfico de densidade para a distribuição original\n",
    "plt.subplot(1, 2, 1)\n",
    "sns.histplot(df['sales'], kde=True, color='blue')\n",
    "plt.title('Distribuição Original de Sales')\n",
    "plt.xlabel('Sales')\n",
    "plt.ylabel('Frequência')\n",
    "\n",
    "# Exibe a assimetria original\n",
    "print(\"Skewness antes da transformação:\", df[\"sales\"].skew())"
   ]
  },
  {
   "cell_type": "markdown",
   "metadata": {},
   "source": [
    "Como a skewness esta acima de zero (bem acima) temos que a coluna `sales` possuí alta assímetria positiva"
   ]
  },
  {
   "cell_type": "markdown",
   "metadata": {},
   "source": [
    "Criando uma nova coluna para a escala logaritima de `sales`"
   ]
  },
  {
   "cell_type": "code",
   "execution_count": 27,
   "metadata": {},
   "outputs": [],
   "source": [
    "df[\"sales\"] = np.log1p(df['sales'])"
   ]
  },
  {
   "cell_type": "code",
   "execution_count": 28,
   "metadata": {},
   "outputs": [
    {
     "data": {
      "text/plain": [
       "-1.0874747610814188"
      ]
     },
     "execution_count": 28,
     "metadata": {},
     "output_type": "execute_result"
    }
   ],
   "source": [
    "df[\"sales\"].skew()"
   ]
  },
  {
   "cell_type": "code",
   "execution_count": 32,
   "metadata": {},
   "outputs": [
    {
     "name": "stdout",
     "output_type": "stream",
     "text": [
      "Skewness após a transformação: -1.0874747610814188\n"
     ]
    },
    {
     "data": {
      "image/png": "[encoded data removed]",
      "text/plain": [
       "<Figure size 640x480 with 1 Axes>"
      ]
     },
     "metadata": {},
     "output_type": "display_data"
    }
   ],
   "source": [
    "# Histograma e gráfico de densidade para a distribuição ajustada\n",
    "plt.subplot(1, 2, 2)\n",
    "sns.histplot(df['sales'], kde=True, color='blue')\n",
    "plt.title('Distribuição Ajustada de Sales (Log)')\n",
    "plt.xlabel('Log(Sales)')\n",
    "plt.ylabel('Frequência')\n",
    "\n",
    "# Exibe a assimetria após a transformação\n",
    "print(\"Skewness após a transformação:\", df[\"sales\"].skew())\n",
    "\n",
    "# Exibir os gráficos\n",
    "plt.tight_layout()\n",
    "plt.show()"
   ]
  },
  {
   "cell_type": "code",
   "execution_count": 62,
   "metadata": {},
   "outputs": [
    {
     "name": "stdout",
     "output_type": "stream",
     "text": [
      "(1314, 38)\n"
     ]
    }
   ],
   "source": [
    "print(df[df['sales'] <= 1].shape)  # Contar quantos valores são <= 1\n"
   ]
  },
  {
   "cell_type": "markdown",
   "metadata": {},
   "source": [
    "### Realizando o corte de `revenue`\n",
    "Como a coluna `revenue` não existe em nossa base de dados, utilizaremos `inc_bef_tax` pois consegue refletir a receita bruta de uma empresa independete das politicas de tributação locais, assim sendo mais confiável do que `sales`"
   ]
  },
  {
   "cell_type": "code",
   "execution_count": 100,
   "metadata": {},
   "outputs": [],
   "source": [
    "df = df[(df['inc_bef_tax'] > 1000) & (df['inc_bef_tax'] < 10_000_000)] # filtrando os dados"
   ]
  },
  {
   "cell_type": "markdown",
   "metadata": {},
   "source": [
    "### Agora temos que a escala logaritima da coluna `sales_log` possue sua assimetria bem mais próxima de zero em relação à `sales`, indicando uma alta redução na assimetria"
   ]
  },
  {
   "cell_type": "markdown",
   "metadata": {},
   "source": [
    "Checando a assimetria de outras colunas do dataset"
   ]
  },
  {
   "cell_type": "code",
   "execution_count": 101,
   "metadata": {},
   "outputs": [
    {
     "name": "stdout",
     "output_type": "stream",
     "text": [
      "Colunas com alta assimetria:\n",
      "balsheet_flag           42.497059\n",
      "liquidity_ratio         41.874804\n",
      "profit_margin           39.615562\n",
      "material_exp            27.454934\n",
      "extra_inc               23.361546\n",
      "inc_bef_tax             22.256276\n",
      "extra_exp               21.949248\n",
      "extra_profit_loss       20.766107\n",
      "intang_assets           20.368715\n",
      "inventories             18.640950\n",
      "subscribed_cap          17.688150\n",
      "leverage_ratio          17.062175\n",
      "tang_assets             16.983033\n",
      "curr_assets             16.466263\n",
      "fixed_assets            15.807087\n",
      "amort                   14.790717\n",
      "personnel_exp           12.641593\n",
      "balsheet_notfullyear     3.119539\n",
      "foreign                  2.460485\n",
      "ceo_count                1.993084\n",
      "dtype: float64\n",
      "Coluna 'liquidity_ratio' contém valores negativos e será removida.\n",
      "Coluna 'profit_margin' contém valores negativos e será removida.\n",
      "Coluna 'material_exp' contém valores negativos e será removida.\n",
      "Coluna 'extra_profit_loss' contém valores negativos e será removida.\n",
      "Coluna 'leverage_ratio' contém valores negativos e será removida.\n",
      "Coluna 'amort' contém valores negativos e será removida.\n",
      "Coluna 'personnel_exp' contém valores negativos e será removida.\n",
      "Assimetria após transformação logarítmica:\n",
      "balsheet_flag              42.497059\n",
      "liquidity_ratio            41.874804\n",
      "profit_margin              39.615562\n",
      "material_exp               27.454934\n",
      "extra_profit_loss          20.766107\n",
      "leverage_ratio             17.062175\n",
      "amort                      14.790717\n",
      "personnel_exp              12.641593\n",
      "extra_exp                   4.178043\n",
      "extra_inc                   3.335249\n",
      "intang_assets               3.141477\n",
      "balsheet_notfullyear        3.119539\n",
      "foreign                     2.406968\n",
      "ceo_count                   1.828665\n",
      "female                      0.963178\n",
      "inc_bef_tax                 0.905035\n",
      "operates_within_2_years     0.899114\n",
      "subscribed_cap              0.668281\n",
      "comp_id                     0.571621\n",
      "inventories                 0.037575\n",
      "founded_year                0.000000\n",
      "urban_m                    -0.188869\n",
      "curr_assets                -0.316479\n",
      "year                       -0.327644\n",
      "tang_assets                -0.730753\n",
      "fixed_assets               -0.763905\n",
      "nace_main                  -0.767590\n",
      "ind2                       -0.771735\n",
      "ind                        -1.342145\n",
      "inoffice_days              -1.512029\n",
      "sales                      -1.923998\n",
      "balsheet_length            -4.866273\n",
      "dtype: float64\n",
      "Coluna 'balsheet_flag' ainda possui alta assimetria e será removida.\n",
      "Coluna 'liquidity_ratio' ainda possui alta assimetria e será removida.\n",
      "Coluna 'profit_margin' ainda possui alta assimetria e será removida.\n",
      "Coluna 'material_exp' ainda possui alta assimetria e será removida.\n",
      "Coluna 'extra_profit_loss' ainda possui alta assimetria e será removida.\n",
      "Coluna 'leverage_ratio' ainda possui alta assimetria e será removida.\n",
      "Coluna 'amort' ainda possui alta assimetria e será removida.\n",
      "Coluna 'personnel_exp' ainda possui alta assimetria e será removida.\n",
      "Coluna 'extra_exp' ainda possui alta assimetria e será removida.\n",
      "Coluna 'extra_inc' ainda possui alta assimetria e será removida.\n",
      "Coluna 'intang_assets' ainda possui alta assimetria e será removida.\n",
      "Coluna 'balsheet_notfullyear' ainda possui alta assimetria e será removida.\n",
      "Coluna 'foreign' ainda possui alta assimetria e será removida.\n",
      "Coluna 'ceo_count' ainda possui alta assimetria e será removida.\n",
      "Colunas restantes no DataFrame:\n",
      "Index(['comp_id', 'begin', 'end', 'curr_assets', 'fixed_assets', 'inc_bef_tax',\n",
      "       'inventories', 'sales', 'subscribed_cap', 'tang_assets',\n",
      "       'balsheet_length', 'year', 'founded_year', 'female', 'inoffice_days',\n",
      "       'gender', 'origin', 'nace_main', 'ind2', 'ind', 'urban_m', 'region_m',\n",
      "       'founded_date', 'operates_within_2_years'],\n",
      "      dtype='object')\n"
     ]
    }
   ],
   "source": [
    "# Verificando a assimetria (skewness) de todas as colunas numéricas\n",
    "numeric_cols = df.select_dtypes(include=[np.number]).columns\n",
    "skewed_cols = df[numeric_cols].skew().sort_values(ascending=False)\n",
    "\n",
    "# Exibir as colunas com alta assimetria positiva (por exemplo, acima de 1)\n",
    "print(\"Colunas com alta assimetria:\")\n",
    "print(skewed_cols[skewed_cols > 1])\n",
    "\n",
    "# Criando uma lista para armazenar colunas que devem ser removidas\n",
    "colunas_para_remover = []\n",
    "\n",
    "# Aplicando a transformação logarítmica apenas às colunas com alta assimetria e sem valores negativos\n",
    "for col in skewed_cols[skewed_cols > 1].index:\n",
    "    if (df[col] >= 0).all():  # Verificar se todos os valores são >= 0\n",
    "        df[col] = np.log1p(df[col])  # Usando log1p para evitar problemas com valores zero ou negativos\n",
    "    else:\n",
    "        print(f\"Coluna '{col}' contém valores negativos e será removida.\")\n",
    "        colunas_para_remover.append(col)\n",
    "\n",
    "# Verificando a nova assimetria após a transformação\n",
    "new_skewed_cols = df[numeric_cols].skew().sort_values(ascending=False)\n",
    "print(\"Assimetria após transformação logarítmica:\")\n",
    "print(new_skewed_cols)\n",
    "\n",
    "# Remover colunas que possuem alta assimetria após a transformação\n",
    "for col in new_skewed_cols[new_skewed_cols > 1].index:\n",
    "    print(f\"Coluna '{col}' ainda possui alta assimetria e será removida.\")\n",
    "    colunas_para_remover.append(col)\n",
    "\n",
    "# Remover as colunas do DataFrame\n",
    "df = df.drop(columns=colunas_para_remover)\n",
    "\n",
    "# Exibir as colunas restantes\n",
    "print(\"Colunas restantes no DataFrame:\")\n",
    "print(df.columns)"
   ]
  },
  {
   "cell_type": "markdown",
   "metadata": {},
   "source": [
    "### Criando a coluna `Idade_da_empresa`"
   ]
  },
  {
   "cell_type": "code",
   "execution_count": 102,
   "metadata": {},
   "outputs": [
    {
     "data": {
      "text/plain": [
       "427     3.0\n",
       "743     0.0\n",
       "780     1.0\n",
       "908     2.0\n",
       "1534    2.0\n",
       "Name: Idade_da_empresa, dtype: float64"
      ]
     },
     "execution_count": 102,
     "metadata": {},
     "output_type": "execute_result"
    }
   ],
   "source": [
    "df['Idade_da_empresa'] = np.where(\n",
    "    (df['year'].isna()) | (df['founded_year'].isna()),  # Condição: se 'year' ou 'founded_year' forem NaN\n",
    "    np.nan,  # Se a condição for verdadeira (há missing values), preenche com NaN\n",
    "    df['year'] - df['founded_year']  # Caso contrário, realiza a subtração normalmente\n",
    ")\n",
    "df['Idade_da_empresa'].head()"
   ]
  },
  {
   "cell_type": "markdown",
   "metadata": {},
   "source": [
    "### Codificando as colunas não numéricas para serem utilizadas nos modelos: "
   ]
  },
  {
   "cell_type": "code",
   "execution_count": 103,
   "metadata": {},
   "outputs": [],
   "source": [
    "# 2. Codificar 'region_m' (aqui estou usando Label Encoding)\n",
    "# Se houver poucas categorias, podemos usar Label Encoding\n",
    "df['region_m_encoded'] = df['region_m'].astype('category').cat.codes\n",
    "\n",
    "# Alternativamente, para One-Hot Encoding:\n",
    "# df = pd.get_dummies(df, columns=['region_m'], drop_first=True)\n",
    "\n",
    "# 3. Codificar 'founded_date' extraindo o ano\n",
    "df['founded_year'] = pd.to_datetime(df['founded_date']).dt.year\n",
    "\n",
    "# Agora, removemos as colunas originais que foram codificadas\n",
    "df = df.drop(columns=['begin', 'end', 'region_m', 'founded_date'])"
   ]
  },
  {
   "cell_type": "markdown",
   "metadata": {},
   "source": [
    "### Checando colunas com números nulos:"
   ]
  },
  {
   "cell_type": "code",
   "execution_count": 104,
   "metadata": {},
   "outputs": [
    {
     "data": {
      "text/html": [
       "<div>\n",
       "<style scoped>\n",
       "    .dataframe tbody tr th:only-of-type {\n",
       "        vertical-align: middle;\n",
       "    }\n",
       "\n",
       "    .dataframe tbody tr th {\n",
       "        vertical-align: top;\n",
       "    }\n",
       "\n",
       "    .dataframe thead th {\n",
       "        text-align: right;\n",
       "    }\n",
       "</style>\n",
       "<table border=\"1\" class=\"dataframe\">\n",
       "  <thead>\n",
       "    <tr style=\"text-align: right;\">\n",
       "      <th></th>\n",
       "      <th>curr_assets</th>\n",
       "      <th>fixed_assets</th>\n",
       "      <th>inc_bef_tax</th>\n",
       "      <th>inventories</th>\n",
       "      <th>sales</th>\n",
       "      <th>subscribed_cap</th>\n",
       "      <th>tang_assets</th>\n",
       "      <th>balsheet_length</th>\n",
       "      <th>year</th>\n",
       "      <th>founded_year</th>\n",
       "      <th>...</th>\n",
       "      <th>inoffice_days</th>\n",
       "      <th>gender</th>\n",
       "      <th>origin</th>\n",
       "      <th>nace_main</th>\n",
       "      <th>ind2</th>\n",
       "      <th>ind</th>\n",
       "      <th>urban_m</th>\n",
       "      <th>operates_within_2_years</th>\n",
       "      <th>Idade_da_empresa</th>\n",
       "      <th>region_m_encoded</th>\n",
       "    </tr>\n",
       "  </thead>\n",
       "  <tbody>\n",
       "    <tr>\n",
       "      <th>427</th>\n",
       "      <td>8.004229</td>\n",
       "      <td>5.321564</td>\n",
       "      <td>7.362058</td>\n",
       "      <td>7.65193</td>\n",
       "      <td>11.048669</td>\n",
       "      <td>7.544273</td>\n",
       "      <td>5.321564</td>\n",
       "      <td>364</td>\n",
       "      <td>2015</td>\n",
       "      <td>2012</td>\n",
       "      <td>...</td>\n",
       "      <td>1475.0</td>\n",
       "      <td>male</td>\n",
       "      <td>Domestic</td>\n",
       "      <td>5610.0</td>\n",
       "      <td>56.0</td>\n",
       "      <td>3.0</td>\n",
       "      <td>3</td>\n",
       "      <td>0</td>\n",
       "      <td>3.0</td>\n",
       "      <td>2</td>\n",
       "    </tr>\n",
       "    <tr>\n",
       "      <th>743</th>\n",
       "      <td>6.428943</td>\n",
       "      <td>9.385000</td>\n",
       "      <td>8.594339</td>\n",
       "      <td>0.00000</td>\n",
       "      <td>11.128312</td>\n",
       "      <td>7.524481</td>\n",
       "      <td>9.385000</td>\n",
       "      <td>292</td>\n",
       "      <td>2012</td>\n",
       "      <td>2012</td>\n",
       "      <td>...</td>\n",
       "      <td>1753.0</td>\n",
       "      <td>female</td>\n",
       "      <td>Domestic</td>\n",
       "      <td>5610.0</td>\n",
       "      <td>56.0</td>\n",
       "      <td>3.0</td>\n",
       "      <td>1</td>\n",
       "      <td>1</td>\n",
       "      <td>0.0</td>\n",
       "      <td>0</td>\n",
       "    </tr>\n",
       "    <tr>\n",
       "      <th>780</th>\n",
       "      <td>9.690310</td>\n",
       "      <td>0.000000</td>\n",
       "      <td>7.965121</td>\n",
       "      <td>0.00000</td>\n",
       "      <td>9.423739</td>\n",
       "      <td>9.315791</td>\n",
       "      <td>0.000000</td>\n",
       "      <td>364</td>\n",
       "      <td>2013</td>\n",
       "      <td>2012</td>\n",
       "      <td>...</td>\n",
       "      <td>1607.0</td>\n",
       "      <td>female</td>\n",
       "      <td>Domestic</td>\n",
       "      <td>5610.0</td>\n",
       "      <td>56.0</td>\n",
       "      <td>3.0</td>\n",
       "      <td>2</td>\n",
       "      <td>0</td>\n",
       "      <td>1.0</td>\n",
       "      <td>0</td>\n",
       "    </tr>\n",
       "    <tr>\n",
       "      <th>908</th>\n",
       "      <td>11.686078</td>\n",
       "      <td>5.975316</td>\n",
       "      <td>7.316351</td>\n",
       "      <td>0.00000</td>\n",
       "      <td>12.248072</td>\n",
       "      <td>7.524481</td>\n",
       "      <td>5.975316</td>\n",
       "      <td>364</td>\n",
       "      <td>2014</td>\n",
       "      <td>2012</td>\n",
       "      <td>...</td>\n",
       "      <td>1122.0</td>\n",
       "      <td>mix</td>\n",
       "      <td>Domestic</td>\n",
       "      <td>5510.0</td>\n",
       "      <td>55.0</td>\n",
       "      <td>3.0</td>\n",
       "      <td>1</td>\n",
       "      <td>0</td>\n",
       "      <td>2.0</td>\n",
       "      <td>0</td>\n",
       "    </tr>\n",
       "    <tr>\n",
       "      <th>1534</th>\n",
       "      <td>6.966269</td>\n",
       "      <td>8.632682</td>\n",
       "      <td>7.053202</td>\n",
       "      <td>0.00000</td>\n",
       "      <td>8.264230</td>\n",
       "      <td>8.217359</td>\n",
       "      <td>8.632682</td>\n",
       "      <td>364</td>\n",
       "      <td>2014</td>\n",
       "      <td>2012</td>\n",
       "      <td>...</td>\n",
       "      <td>1627.0</td>\n",
       "      <td>male</td>\n",
       "      <td>Domestic</td>\n",
       "      <td>5520.0</td>\n",
       "      <td>55.0</td>\n",
       "      <td>3.0</td>\n",
       "      <td>3</td>\n",
       "      <td>0</td>\n",
       "      <td>2.0</td>\n",
       "      <td>1</td>\n",
       "    </tr>\n",
       "  </tbody>\n",
       "</table>\n",
       "<p>5 rows × 21 columns</p>\n",
       "</div>"
      ],
      "text/plain": [
       "      curr_assets  fixed_assets  inc_bef_tax  inventories      sales  \\\n",
       "427      8.004229      5.321564     7.362058      7.65193  11.048669   \n",
       "743      6.428943      9.385000     8.594339      0.00000  11.128312   \n",
       "780      9.690310      0.000000     7.965121      0.00000   9.423739   \n",
       "908     11.686078      5.975316     7.316351      0.00000  12.248072   \n",
       "1534     6.966269      8.632682     7.053202      0.00000   8.264230   \n",
       "\n",
       "      subscribed_cap  tang_assets  balsheet_length  year  founded_year  ...  \\\n",
       "427         7.544273     5.321564              364  2015          2012  ...   \n",
       "743         7.524481     9.385000              292  2012          2012  ...   \n",
       "780         9.315791     0.000000              364  2013          2012  ...   \n",
       "908         7.524481     5.975316              364  2014          2012  ...   \n",
       "1534        8.217359     8.632682              364  2014          2012  ...   \n",
       "\n",
       "      inoffice_days  gender    origin nace_main  ind2  ind  urban_m  \\\n",
       "427          1475.0    male  Domestic    5610.0  56.0  3.0        3   \n",
       "743          1753.0  female  Domestic    5610.0  56.0  3.0        1   \n",
       "780          1607.0  female  Domestic    5610.0  56.0  3.0        2   \n",
       "908          1122.0     mix  Domestic    5510.0  55.0  3.0        1   \n",
       "1534         1627.0    male  Domestic    5520.0  55.0  3.0        3   \n",
       "\n",
       "      operates_within_2_years  Idade_da_empresa  region_m_encoded  \n",
       "427                         0               3.0                 2  \n",
       "743                         1               0.0                 0  \n",
       "780                         0               1.0                 0  \n",
       "908                         0               2.0                 0  \n",
       "1534                        0               2.0                 1  \n",
       "\n",
       "[5 rows x 21 columns]"
      ]
     },
     "execution_count": 104,
     "metadata": {},
     "output_type": "execute_result"
    }
   ],
   "source": [
    "#colunas = [\"balsheet_length\", \"year\",\"comp_id\",\"ind\",\"ind2\",\"urban_m\"]\n",
    "dadosR = df.drop(columns=\"comp_id\")\n",
    "dadosR.head()"
   ]
  },
  {
   "cell_type": "markdown",
   "metadata": {},
   "source": [
    "## Criando o dataset para treinar o modelo"
   ]
  },
  {
   "cell_type": "code",
   "execution_count": 105,
   "metadata": {},
   "outputs": [
    {
     "name": "stdout",
     "output_type": "stream",
     "text": [
      "Colunas com valores NaN no dataset:\n",
      "Series([], dtype: int64)\n",
      "Colunas com valores Inf no dataset:\n",
      "Series([], dtype: int64)\n"
     ]
    }
   ],
   "source": [
    "# Verificando o total de valores NaN e imprimindo apenas colunas com NaN\n",
    "print(\"Colunas com valores NaN no dataset:\")\n",
    "nan_cols = dadosR.isnull().sum()\n",
    "print(nan_cols[nan_cols > 0])\n",
    "\n",
    "# Verificando se há valores Inf no dataset e imprimindo apenas colunas com Inf\n",
    "print(\"Colunas com valores Inf no dataset:\")\n",
    "inf_cols = (dadosR == np.inf).sum() + (dadosR == -np.inf).sum()\n",
    "print(inf_cols[inf_cols > 0])\n"
   ]
  },
  {
   "cell_type": "code",
   "execution_count": 106,
   "metadata": {},
   "outputs": [
    {
     "name": "stdout",
     "output_type": "stream",
     "text": [
      "O dataset final tem 1806 linhas e 21 colunas\n"
     ]
    }
   ],
   "source": [
    "dadosR.to_csv(\"dados_para_o_R.csv\", index = True)\n",
    "print(f\"O dataset final tem {dadosR.shape[0]} linhas e {dadosR.shape[1]} colunas\")"
   ]
  }
 ],
 "metadata": {
  "kernelspec": {
   "display_name": "Python 3 (ipykernel)",
   "language": "python",
   "name": "python3"
  },
  "language_info": {
   "codemirror_mode": {
    "name": "ipython",
    "version": 3
   },
   "file_extension": ".py",
   "mimetype": "text/x-python",
   "name": "python",
   "nbconvert_exporter": "python",
   "pygments_lexer": "ipython3",
   "version": "3.12.4"
  }
 },
 "nbformat": 4,
 "nbformat_minor": 4
}
